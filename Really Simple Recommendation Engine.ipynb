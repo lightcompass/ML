{
 "cells": [
  {
   "cell_type": "markdown",
   "metadata": {},
   "source": [
    "# Recommendation Engine by Cosine similarity\n",
    "\n",
    "Given simple dataset that collect text with labelled\n",
    "\n",
    "\n",
    "*Last update: 26 Mar 2021, Part J.*\n"
   ]
  },
  {
   "cell_type": "code",
   "execution_count": 1,
   "metadata": {},
   "outputs": [],
   "source": [
    "import pandas as pd\n",
    "import numpy as np\n",
    "import seaborn as sns\n",
    "import matplotlib.pyplot as plt\n",
    "%matplotlib inline\n",
    "pd.options.mode.chained_assignment = None  # default='warn'"
   ]
  },
  {
   "cell_type": "code",
   "execution_count": 2,
   "metadata": {},
   "outputs": [],
   "source": [
    "traindata = pd.read_csv('classifier_data/training_set.csv')"
   ]
  },
  {
   "cell_type": "code",
   "execution_count": 3,
   "metadata": {},
   "outputs": [],
   "source": [
    "from sklearn.feature_extraction.text import CountVectorizer\n",
    "from sklearn.naive_bayes import MultinomialNB, GaussianNB\n",
    "from sklearn import svm\n",
    "from sklearn.model_selection import GridSearchCV\n",
    "from pythainlp.tokenize import word_tokenize\n",
    "from sklearn.metrics.pairwise import cosine_similarity"
   ]
  },
  {
   "cell_type": "code",
   "execution_count": 4,
   "metadata": {},
   "outputs": [],
   "source": [
    "def wordToken(text):\n",
    "    return word_tokenize(text, engine=\"newmm\")"
   ]
  },
  {
   "cell_type": "code",
   "execution_count": 5,
   "metadata": {},
   "outputs": [],
   "source": [
    "from easynmt import EasyNMT\n",
    "model_nmt = EasyNMT('opus-mt')\n",
    "\n",
    "def thnmt(text):\n",
    "    if not text.isspace() and text:\n",
    "        return model_nmt.translate(text, source_lang='th', target_lang='en')"
   ]
  },
  {
   "cell_type": "markdown",
   "metadata": {},
   "source": [
    "## Without NMT"
   ]
  },
  {
   "cell_type": "code",
   "execution_count": 6,
   "metadata": {},
   "outputs": [
    {
     "data": {
      "text/plain": [
       "(1061, 3)"
      ]
     },
     "execution_count": 6,
     "metadata": {},
     "output_type": "execute_result"
    }
   ],
   "source": [
    "# Select only promotion\n",
    "\n",
    "traindata.drop(traindata[traindata.bad == 1].index , inplace=True)\n",
    "\n",
    "traindata.shape"
   ]
  },
  {
   "cell_type": "code",
   "execution_count": 7,
   "metadata": {},
   "outputs": [
    {
     "data": {
      "text/plain": [
       "PromotionId      0\n",
       "description    181\n",
       "bad              0\n",
       "dtype: int64"
      ]
     },
     "execution_count": 7,
     "metadata": {},
     "output_type": "execute_result"
    }
   ],
   "source": [
    "#  check null\n",
    "traindata.isnull().sum()"
   ]
  },
  {
   "cell_type": "code",
   "execution_count": 8,
   "metadata": {},
   "outputs": [
    {
     "data": {
      "text/plain": [
       "(880, 3)"
      ]
     },
     "execution_count": 8,
     "metadata": {},
     "output_type": "execute_result"
    }
   ],
   "source": [
    "# This model will focus only text will remove empty description\n",
    "\n",
    "traindata.dropna(inplace=True)\n",
    "\n",
    "traindata.reset_index(drop=True, inplace=True)\n",
    "\n",
    "traindata.shape"
   ]
  },
  {
   "cell_type": "code",
   "execution_count": 9,
   "metadata": {},
   "outputs": [
    {
     "name": "stdout",
     "output_type": "stream",
     "text": [
      "['00', '000', '001', '011', '0111', '015', '0176182', '0189200', '02', '022124809', '022470123', '023224407', '0297', '03', '032', '043', '044', '052', '053', '060', '061', '0631408789', '064', '0649649363', '07', '076', '076604227', '08', '0820862388', '0825', '0828884237', '083', '084', '085', '086', '0866', '087', '0885555950', '089', '09', '090', '0925639939', '095', '0968602285', '097', '0974749900', '098', '10', '100', '1000', '105', '1073741828', '1080', '109', '11', '110', '1111', '11120', '115', '119', '12', '120', '1200', '121', '123', '124', '125', '127', '129', '1299', '13', '1300', '139', '14', '140', '145', '148', '149', '15', '150', '156', '157', '159', '16', '160', '1600', '1650', '168', '169', '17', '170', '171', '175', '179', '1790', '18', '180', '1800', '1810', '1818', '183', '185', '189', '19', '190', '1900', '195', '196', '199', '20', '200', '201', '2018', '203', '2038', '207', '209', '21', '210', '219', '22', '220', '225', '228', '229', '23', '230', '235253157149439', '239', '24', '240', '242', '248', '249', '25', '250', '2500', '2561', '2562', '256629', '259', '260', '2656', '2679', '268', '269', '27', '270', '275', '276', '278', '279', '28', '280', '283', '285', '29', '290', '293291094402936', '293299234402122', '295', '299', '30', '300', '31', '311', '319', '320', '33', '333', '340', '348', '349', '35', '350', '3563', '358', '370', '378', '379', '38', '385', '389', '39', '390', '3929178', '399', '40', '400', '4002254', '4052856', '411', '414', '42', '420', '4262', '4331812', '449', '45', '450', '4567', '465', '4777', '48', '480', '483', '485', '489', '49', '490', '498', '499', '50', '500', '507', '509', '510', '511', '516', '530', '536', '54', '540', '5434', '5437', '545', '549', '55', '550', '570', '5889', '59', '590', '596', '599', '60', '600', '6006377', '61', '612', '6127007', '613', '618', '62', '6289', '64', '641', '6414', '642', '647', '6480', '65', '650', '656', '659', '66', '663', '663466547385387', '666', '6736', '675', '68', '687', '69', '690', '699', '70', '700', '7034123', '72', '720', '730', '7315', '7330', '7390', '75', '750', '76', '765', '769', '7844', '789', '79', '790', '7949', '799', '80', '800', '8000', '81', '810', '8231', '833', '839', '850', '855', '875', '88', '888', '8880', '89', '890', '899', '90', '900', '9000', '900971', '9099874', '9100', '92', '930', '9347723', '939', '95', '950', '9635', '969', '99', '990', '9909', '9933', '9944', '998', '999', '_____________________', 'account', 'add', 'adult', 'after', 'afternoon', 'afterwork', 'ais', 'akami', 'all', 'ambience', 'and', 'any', 'app', 'applevivid', 'appwar', 'aqua', 'are', 'aroichiangmai', 'art', 'articles', 'asianfood', 'asoke', 'at', 'au', 'aubonpainthailand', 'aug', 'august', 'autumn', 'available', 'avani', 'avaniriverside', 'award', 'away', 'ayutthaya', 'baba', 'back', 'bag', 'baht', 'baiyoke', 'baiyokecatering', 'bakery', 'ball', 'ban', 'banana', 'bangkae', 'bangkok', 'bangna', 'bank', 'banking', 'bankokubuffet', 'bar', 'bbl', 'bbq', 'bean', 'beef', 'beer', 'bettoli', 'beverage', 'beyond', 'beyondcafe', 'biker', 'bird', 'birthday', 'bistro', 'bit', 'bites', 'bkk', 'black', 'blackpeppersauce', 'blast', 'blend', 'blu', 'blue', 'bnk', 'bon', 'booking', 'boon', 'bowl', 'box', 'bring', 'bts', 'buatong', 'buffet', 'burger', 'burgers', 'butter', 'buttercup', 'buy', 'by', 'cafe', 'cafehopping', 'cafehoppingbkk', 'cake', 'call', 'can', 'canadian', 'capogbkk', 'car', 'caramel', 'card', 'carnival', 'carte', 'casa', 'catering', 'celeb', 'celebrate', 'celebrating', 'central', 'ceylon', 'chada', 'champagne', 'changwattana', 'charas', 'charge', 'charm', 'check', 'checkin', 'cheese', 'cheesy', 'chef', 'chicken', 'child', 'chinese', 'chips', 'chirashi', 'chocolate', 'cieloskybar', 'citibank', 'city', 'class', 'classic', 'club', 'co', 'cocktail', 'cocktails', 'cocoa', 'code', 'coffee', 'coffeebreak', 'coffeeshop', 'coffeewithatwist', 'coffeeworldth', 'colablaze', 'cold', 'collagen', 'com', 'combo', 'come', 'comment', 'compassskyviewhotel', 'concorde', 'contact', 'cookie', 'cookies', 'copper', 'copperbuffet', 'copy', 'cottage', 'coupon', 'cow', 'crab', 'cream', 'creamy', 'credit', 'crepe', 'crunchy', 'crystal', 'ct', 'cub', 'cubhouse', 'cuisine', 'cup', 'daily', 'dao', 'darjeeling', 'dark', 'day', 'days', 'dchala', 'de', 'deal', 'delicious', 'delivery', 'deluxe', 'dessert', 'details', 'di', 'dim', 'din', 'dining', 'dinner', 'discount', 'dishes', 'diy', 'doi', 'don', 'donburi', 'donut', 'double', 'dp', 'draft', 'dragon', 'dream', 'drink', 'drinks', 'drip', 'drive', 'dtac', 'dtacreward', 'duck', 'duo', 'early', 'easy', 'eat', 'eatery', 'eatigo', 'eatranger', 'ebi', 'edo', 'eid', 'eiffel', 'eleven', 'emporium', 'emquartier', 'emup', 'en', 'engawa', 'enjoy', 'escapexdandelioncafe', 'espresso', 'every', 'everyday', 'excluding', 'exclusive', 'exclusively', 'executive', 'expire', 'express', 'extra', 'eye', 'facebook', 'fah', 'fahrenheit', 'fan', 'fanpage', 'fatbellypattaya', 'fb', 'festival', 'fillet', 'fine', 'first', 'fish', 'fitness', 'fizzy', 'flagship', 'floor', 'foie', 'follow', 'fondant', 'food', 'for', 'forlow', 'four', 'francesco', 'free', 'french', 'freshsalmon', 'fri', 'friday', 'from', 'fruittose', 'fruitty', 'fung', 'future', 'fuzio', 'fuziocafe', 'fuziocafebangkok', 'galaxy', 'garaku', 'garlic', 'get', 'giant', 'gift', 'gl', 'glass', 'gm', 'go', 'gold', 'golden', 'goo', 'google', 'gooroochiangmai', 'gouda', 'gouy', 'gras', 'great', 'green', 'greenchef', 'greyhound', 'greyhoundcoffee', 'greyhoundcoffeeoriginal', 'grill', 'grilled', 'hall', 'hanu', 'happy', 'hard', 'hashtag', 'hatyai', 'heart', 'helix', 'here', 'hershey', 'hibachi', 'highball', 'himawari', 'hin', 'hipsterbiker', 'hokkigai', 'home', 'homegunn', 'homemade', 'hoshi', 'hot', 'hour', 'hours', 'house', 'hrs', 'http', 'https', 'hua', 'hungryfatguy', 'ice', 'iced', 'icy', 'id', 'ig', 'in', 'inbox', 'include', 'including', 'indique', 'information', 'instagram', 'is', 'italian', 'italianfood', 'ix', 'japanese', 'javenue', 'jed', 'jjmla', 'johnniehighball', 'july', 'just', 'ka', 'kaiseki', 'kaizen', 'kakigori', 'kani', 'kano', 'kfc', 'kimukatsu', 'kind', 'king', 'kisso', 'knmv', 'konmunkung', 'krusuteam', 'ktc', 'la', 'label', 'lady', 'lagoon', 'lalamove', 'lao', 'last', 'le', 'leaf', 'lemon', 'let', 'letao', 'like', 'liked', 'line', 'lineman', 'link', 'live', 'lobster', 'location', 'lopbaan', 'lot', 'love', 'lover', 'lunch', 'lunchasian', 'lunchset', 'luxury', 'ly', 'mac', 'made', 'maguro', 'mahachai', 'mall', 'man', 'mania', 'manu', 'map', 'maps', 'margherita', 'marine', 'market', 'massilia', 'mayo', 'mcg', 'me', 'meat', 'mega', 'mellow', 'member', 'menam', 'menu', 'menus', 'mhala', 'milk', 'milky', 'miso', 'missing', 'mixed', 'mk', 'mocktails', 'momeatfree', 'mon', 'money', 'monster', 'more', 'mother', 'mrt', 'muanfanbuffet', 'muay', 'mug', 'muji', 'myc', 'nabe', 'nakhon', 'nakhonsawan', 'nakhonsi', 'nd', 'negi', 'nen', 'net', 'new', 'next', 'night', 'nigiri', 'nio', 'nitro', 'nitrocoffee', 'no', 'nonghoi', 'nont', 'norway', 'not', 'now', 'nwlcroywkdnx', 'odyssey', 'of', 'off', 'offering', 'old', 'omakase', 'on', 'one', 'onetreehill', 'online', 'only', 'open', 'opening', 'openning', 'opposite', 'or', 'order', 'origano', 'original', 'ornbnk', 'orrtiu', 'ozen', 'pack', 'padaso', 'page', 'pagoda', 'pain', 'panacotta', 'papa', 'park', 'parking', 'party', 'pasta', 'pattaya', 'pay', 'pcs', 'peach', 'ped', 'peking', 'pepsi', 'person', 'pg', 'phitsanulok', 'phong', 'photos', 'phrom', 'phungtosteak', 'piece', 'ping', 'pinklao', 'pizza', 'pizzamassiliabkk', 'pizzamassiliasukhumvit', 'platter', 'play', 'plaza', 'please', 'plza', 'pm', 'point', 'pool', 'poonpoon', 'pop', 'popcorn', 'porcini', 'port', 'post', 'posts', 'pot', 'power', 'pr', 'premium', 'prestige', 'pretzel', 'price', 'privileges', 'promenade', 'promo', 'promotion', 'promotions', 'promtion', 'ptt', 'public', 'qr', 'quartier', 'quick', 'rabbit', 'rakathaifusionfood', 'rama', 'ramada', 'ramintra', 'rangsit', 'ratchasima', 'ratilannachiangmai', 'ratthanathibeth', 'real', 'red', 'ref', 'refill', 'regular', 'reservation', 'reservations', 'resort', 'restaurant', 'review', 'reviewesan', 'reviewudon', 'reward', 'rib', 'ribbit', 'riverside', 'roar', 'roll', 'room', 'rvwpyb', 'salad', 'sale', 'salmon', 'samsung', 'sanaebeachclub', 'sashimi', 'sat', 'saturday', 'sauce', 'save', 'scb', 'scoop', 'scope', 'seafood', 'seafresh', 'season', 'senghong', 'senior', 'seoul', 'sep', 'september', 'sergio', 'service', 'set', 'shabu', 'share', 'sheddo', 'shere', 'shirao', 'shizen', 'shop', 'shrimp', 'siam', 'side', 'signature', 'simple', 'sino', 'sirlion', 'size', 'sized', 'skybar', 'snack', 'snow', 'soccer', 'society', 'soda', 'sodacrisp', 'soft', 'soplumup', 'sous', 'spa', 'special', 'spicy', 'spring', 'spritelime', 'square', 'stamina', 'starting', 'station', 'steak', 'steakcoach', 'store', 'strawberry', 'style', 'sukhumvit', 'sum', 'sumptuous', 'sunday', 'super', 'supper', 'suratthani', 'sushi', 'sweat', 'sweet', 'swiss', 'tag', 'tai', 'taihei', 'tail', 'take', 'takumi', 'tamago', 'taraba', 'taroto', 'tea', 'teas', 'tel', 'tempura', 'terminal', 'terrace', 'th', 'thai', 'thailand', 'thamarat', 'thapra', 'thb', 'the', 'theartofsushipinklao', 'theater', 'thebestgrilled', 'therealpizzabkk', 'therealpizzaservice', 'this', 'thru', 'ti', 'tian', 'tickets', 'tid', 'tiew', 'tiewpedgomuay', 'till', 'time', 'tiramisu', 'tmb', 'to', 'toast', 'tobi', 'tobisushi', 'tobisushibar', 'together', 'tood', 'tote', 'toyota', 'tqpnaweyn', 'treesquare', 'trio', 'tripadvisor', 'true', 'truemoney', 'trueyou', 'tsukiji', 'tue', 'tues', 'tuesday', 'tumbler', 'tuna', 'twg', 'two', 'type', 'ubon', 'unagi', 'under', 'uni', 'until', 'upsize', 'us', 'usaul', 'use', 'vallet', 'vat', 'village', 'volcano', 'voucher', 'waffle', 'wagyu', 'walk', 'wall', 'wallet', 'wash', 'washi', 'watersidekaraoke', 'website', 'wed', 'wednesday', 'week', 'weekday', 'western', 'westin', 'when', 'whisgars', 'whitedaypatisserie', 'wifi', 'wine', 'winning', 'with', 'wongnai', 'world', 'woven', 'wow', 'www', 'xin', 'xolxrqq', 'xtd', 'yakiniku', 'years', 'yod', 'you', 'yumi', 'zpell', 'กก', 'กกาด', 'กข', 'กค', 'กคน', 'กคร', 'กงาน', 'กงานบร', 'กช', 'กชน', 'กซ', 'กฐาน', 'กด', 'กต', 'กถ', 'กท', 'กทม', 'กทาย', 'กบ', 'กป', 'กปาก', 'กม', 'กย', 'กร', 'กรกฎาคม', 'กรณ', 'กรรมว', 'กรรเช', 'กรอก', 'กรอบ', 'กระ', 'กระทะ', 'กระบอก', 'กระป', 'กระหน', 'กระเจ', 'กระเท', 'กระเป', 'กระเพาะปลา', 'กระโดด', 'กราม', 'กล', 'กลด', 'กลม', 'กลาง', 'กลางกร', 'กลางว', 'กลางเด', 'กลาย', 'กว', 'กวน', 'กวางต', 'กศ', 'กษ', 'กษา', 'กส', 'กอ', 'กองท', 'กอย', 'กฮวย', 'กะ', 'กะท', 'กะทะ', 'กะป', 'กะพง', 'กะลา', 'กะหร', 'กะเพรา', 'กา', 'กาก', 'กากหม', 'กายน', 'การ', 'การถ', 'การปร', 'การส', 'กาล', 'กาแฟ', 'กาแฟร', 'กาแฟเย', 'กำน', 'กำหนด', 'กำแพง', 'กเคล', 'กเด', 'กเบ', 'กเร', 'กเวลา', 'กแล', 'กโขม', 'กใจ', 'กๆ', 'ขน', 'ขนม', 'ขนมจ', 'ขนมป', 'ขนมหวาน', 'ขนมเค', 'ขนาด', 'ขนาดเล', 'ขนาดใหญ', 'ขบวน', 'ขภาพ', 'ขยายเวลา', 'ขวด', 'ขส', 'ขอ', 'ของ', 'ของขว', 'ของฝาก', 'ของรางว', 'ของหวาน', 'ขอบค', 'ขออภ', 'ขา', 'ขาดต', 'ขาม', 'ขาย', 'ขายด', 'ขาว', 'คคล', 'คชอป', 'คน', 'คนร', 'คนละ', 'คนเด', 'คนเม', 'คนใน', 'คนไทย', 'คบ', 'คร', 'ครบ', 'ครบรอบ', 'ครอบคร', 'คล', 'คลอง', 'คละ', 'คลาส', 'ควงแขน', 'ควร', 'ควรจะ', 'ควอ', 'ความ', 'ความค', 'ความจร', 'ความประท', 'ความประหย', 'ความพอใจ', 'ความร', 'ความส', 'ความสด', 'ความสดช', 'ความหวาน', 'ความอยาก', 'คส', 'คอ', 'คอก', 'คอน', 'คอนเวนช', 'คอนโด', 'คอปเปอร', 'คอร', 'คะ', 'คะแนน', 'คา', 'คาง', 'คาป', 'คาร', 'คาราโอเกะ', 'คาเฟ', 'คำ', 'คำขอ', 'คำขอบค', 'คำเร', 'คำแนะนำ', 'คำโต', 'งก', 'งกร', 'งกระดาน', 'งกล', 'งกว', 'งกาง', 'งการ', 'งขยา', 'งค', 'งคาร', 'งง', 'งจ', 'งจอง', 'งช', 'งชาต', 'งซ', 'งต', 'งตารอ', 'งท', 'งน', 'งป', 'งม', 'งรส', 'งว', 'งศร', 'งส', 'งสรรค', 'งสว', 'งห', 'งหมด', 'งหว', 'งหา', 'งหาคม', 'งอบ', 'งออก', 'งอาหาร', 'งา', 'งาน', 'งานเล', 'งาม', 'งเด', 'งเทพฯ', 'งเทรา', 'งเม', 'งเศส', 'งเสร', 'งแต', 'งแรก', 'งแวดล', 'งโชค', 'งใจ', 'งใหญ', 'งไคล', 'งไทย', 'งๆ', 'จกรรม', 'จน', 'จนกว', 'จนถ', 'จบ', 'จพระนางเจ', 'จร', 'จอ', 'จอง', 'จอด', 'จอดรถ', 'จอน', 'จะ', 'จา', 'จาก', 'จากน', 'จาน', 'จำก', 'จำนวน', 'จำเป', 'ฉลอง', 'ฉลาม', 'ฉะ', 'ฉะเช', 'ชด', 'ชดเชย', 'ชน', 'ชม', 'ชมพ', 'ชล', 'ชลบ', 'ชวน', 'ชอค', 'ชอบ', 'ชะ', 'ชา', 'ชาต', 'ชาบ', 'ชาม', 'ชาร', 'ชาว', 'ชาเข', 'ชำระ', 'ชำระเง', 'ซซ', 'ซอ', 'ซอก', 'ซอน', 'ซอย', 'ซอส', 'ซะ', 'ซา', 'ซาก', 'ซาบะ', 'ซาลาเปา', 'ซำ', 'ญช', 'ญชาต', 'ญญา', 'ญพ', 'ญวน', 'ฐว', 'ฐาน', 'ณฑ', 'ณผ', 'ณพ', 'ณภาพ', 'ณา', 'ณแม', 'ดก', 'ดกะเพรา', 'ดง', 'ดงาน', 'ดจ', 'ดจำ', 'ดด', 'ดดด', 'ดต', 'ดตาม', 'ดถ', 'ดนตร', 'ดพ', 'ดม', 'ดยอด', 'ดร', 'ดรากอน', 'ดราชการ', 'ดลม', 'ดวง', 'ดวงตะว', 'ดส', 'ดสรร', 'ดหว', 'ดอ', 'ดอกมะล', 'ดอง', 'ดอนเม', 'ดอย', 'ดอลล', 'ดาว', 'ดาวกระจาย', 'ดำ', 'ดเง', 'ดเทอม', 'ดเพล', 'ดใจ', 'ดไทย', 'ดไป', 'ตกลง', 'ตค', 'ตต', 'ตตาคาร', 'ตถ', 'ตบ', 'ตบท', 'ตภ', 'ตย', 'ตร', 'ตรง', 'ตรงข', 'ตรประจำต', 'ตรประชาชน', 'ตรวจสอบ', 'ตรสมาช', 'ตรา', 'ตรเครด', 'ตฤกษ', 'ตลอด', 'ตลอดกาล', 'ตลอดช', 'ตลอดท', 'ตลอดป', 'ตลอดว', 'ตละ', 'ตลาด', 'ตว', 'ตส', 'ตอน', 'ตอนท', 'ตอนน', 'ตอบคำถาม', 'ตะ', 'ตะว', 'ตะไคร', 'ตา', 'ตาม', 'ตามกำหนด', 'ตามท', 'ตามปกต', 'ตามมา', 'ตามฤด', 'ตามเง', 'ตามแต', 'ตามแบบฉบ', 'ตามใจ', 'ตามใจชอบ', 'ตาเล', 'ตำ', 'ตำนาน', 'ถนน', 'ถล', 'ถวายพระพร', 'ถา', 'ถาด', 'ทต', 'ทธ', 'ทยา', 'ทยาน', 'ทร', 'ทรสงคราม', 'ทหาร', 'ทอ', 'ทอง', 'ทองคำ', 'ทอด', 'ทอดม', 'ทฯ', 'ทะ', 'ทะล', 'ทะเล', 'ทา', 'ทาง', 'ทางการ', 'ทางเข', 'ทาน', 'ทานอาหาร', 'ทาวน', 'ทำ', 'ทำการ', 'ทำงาน', 'ทำนาย', 'ธค', 'ธง', 'ธน', 'ธนบ', 'ธนาคาร', 'ธยา', 'ธรรม', 'ธรรมดา', 'ธรรมราช', 'ธา', 'ธาน', 'ธารณะ', 'นก', 'นข', 'นค', 'นคร', 'นครราชส', 'นครศร', 'นคล', 'นชอบ', 'นด', 'นต', 'นตก', 'นตาโฟ', 'นตำร', 'นท', 'นทร', 'นทรา', 'นทาง', 'นทางการ', 'นทำงาน', 'นธ', 'นธม', 'นน', 'นนทบ', 'นบ', 'นป', 'นประจำ', 'นปลากราย', 'นพ', 'นพระราชสมภพ', 'นม', 'นมสด', 'นมะ', 'นมเบ', 'นย', 'นยา', 'นยายน', 'นวล', 'นวาคม', 'นส', 'นสด', 'นสมาช', 'นสำค', 'นหมดอาย', 'นหย', 'นหล', 'นหา', 'นอ', 'นอก', 'นอกจาก', 'นอกจากน', 'นอกเหน', 'นอน', 'นอบ', 'นอร', 'นออก', 'นอาท', 'นะ', 'นะค', 'นะคะ', 'นะจ', 'นา', 'นาคม', 'นางใน', 'นาถ', 'นาท', 'นาน', 'นานา', 'นานาชาต', 'นาย', 'นารายณ', 'นำ', 'นำมา', 'นำเข', 'นำเสนอ', 'นเก', 'นเคย', 'นเด', 'นเดย', 'นเตอร', 'นเนอร', 'นเพ', 'นเย', 'นเล', 'นเส', 'นแม', 'นโตก', 'นใจ', 'นใหญ', 'นไป', 'นไปตาม', 'นไพร', 'นๆ', 'บข', 'บค', 'บจอง', 'บด', 'บต', 'บท', 'บน', 'บบ', 'บปร', 'บประทาน', 'บฟเฟต', 'บมา', 'บร', 'บรรยากาศ', 'บรอง', 'บรา', 'บล', 'บอ', 'บอก', 'บอกต', 'บอง', 'บอบ', 'บอล', 'บะ', 'บะหม', 'บาง', 'บางกอก', 'บางนา', 'บาท', 'บาบ', 'บาย', 'บาร', 'บาหล', 'บเง', 'บเบ', 'บใจ', 'บไซต', 'ปก', 'ปกต', 'ปชช', 'ปซ', 'ปดาห', 'ปถ', 'ปท', 'ปภาพ', 'ปร', 'ปรกต', 'ประกอบด', 'ประกาศ', 'ประจำ', 'ประจำว', 'ประจำเด', 'ประช', 'ประชา', 'ประต', 'ประส', 'ประสบการณ', 'ประหย', 'ประเทศ', 'ประเภท', 'ประโยชน', 'ปล', 'ปลา', 'ปลาก', 'ปลาช', 'ปลาด', 'ปลาท', 'ปลาหม', 'ปลาไหล', 'ปอ', 'ปอง', 'ปอนด', 'ปา', 'ปาก', 'ปากซอย', 'ปาร', 'ปเป', 'ปเปอร', 'ปแบบ', 'ผง', 'ผม', 'ผล', 'ผลไม', 'ผสม', 'ผสาน', 'ผอง', 'ฝน', 'ฝนตก', 'ฝร', 'ฝาก', 'พง', 'พงษ', 'พญาไท', 'พท', 'พน', 'พบ', 'พบก', 'พม', 'พยากรธรรมชาต', 'พร', 'พระ', 'พระจ', 'พระบรมราช', 'พระราม', 'พราน', 'พฤ', 'พฤกษ', 'พฤศจ', 'พฤษภาคม', 'พฤห', 'พล', 'พลาซ', 'พลาด', 'พลาสต', 'พวกเรา', 'พวง', 'พวงมาล', 'พอ', 'พอยท', 'พา', 'พาย', 'พาร', 'พาส', 'พาสต', 'พาเหรด', 'ฟต', 'ฟท', 'ฟฟ', 'ฟร', 'ฟล', 'ฟอ', 'ฟอง', 'ฟเฟ', 'ฟเฟต', 'ภาค', 'ภาคอ', 'ภาคเหน', 'ภาคใต', 'ภาพ', 'ภายใต', 'ภายใน', 'ภาษ', 'มกราคม', 'มกล', 'มข', 'มค', 'มงาน', 'มฉลอง', 'มช', 'มซำ', 'มณ', 'มต', 'มตำ', 'มท', 'มทะเล', 'มน', 'มผ', 'มมม', 'มมมๆๆๆ', 'มมาน', 'มยำ', 'มยำก', 'มรส', 'มล', 'มลอง', 'มว', 'มหกรรม', 'มหาช', 'มอ', 'มอคคา', 'มอง', 'มอบ', 'มอบให', 'มอลล', 'มะ', 'มะนาว', 'มะพร', 'มะม', 'มะล', 'มา', 'มาก', 'มากกว', 'มากมาย', 'มาจาก', 'มาตรา', 'มาถ', 'มาน', 'มาล', 'มาศ', 'มเต', 'มเอม', 'มแพ', 'มแม', 'มโบ', 'มได', 'มไปด', 'มๆ', 'ยก', 'ยกร', 'ยกเคร', 'ยกเว', 'ยง', 'ยงราย', 'ยงว', 'ยงเท', 'ยงแค', 'ยงใหม', 'ยด', 'ยดนาม', 'ยน', 'ยนช', 'ยนเช', 'ยบ', 'ยม', 'ยมต', 'ยย', 'ยยยย', 'ยยยยย', 'ยร', 'ยรส', 'ยว', 'ยวก', 'ยส', 'ยอ', 'ยอด', 'ยอดน', 'ยอดรวม', 'ยะ', 'ยา', 'ยาง', 'ยาม', 'ยามค', 'ยามเช', 'ยาว', 'ยำ', 'รณะ', 'รด', 'รต', 'รตม', 'รถ', 'รถโดยสารประจำทาง', 'รป', 'รพ', 'รร', 'รวม', 'รวมก', 'รวมถ', 'รวมพล', 'รวมห', 'รส', 'รสชาต', 'รสเด', 'รห', 'รอ', 'รอคอย', 'รองร', 'รอบ', 'รอย', 'ระ', 'ระกา', 'ระด', 'ระบ', 'ระยอง', 'ระยะ', 'ระยะทาง', 'ระยะเวลา', 'ระล', 'ระหว', 'ระเบ', 'รา', 'ราคา', 'ราง', 'รางน', 'รางว', 'ราช', 'ราชคร', 'ราชพฤกษ', 'ราด', 'รามอ', 'รามา', 'ราย', 'รายการ', 'รายการพ', 'รายการอาหาร', 'รายช', 'รายละเอ', 'ราษฎร', 'ราเมน', 'ฤด', 'ลค', 'ลง', 'ลงต', 'ลด', 'ลดราคา', 'ลดเหล', 'ลน', 'ลพลาซา', 'ลม', 'ลล', 'ลวก', 'ลอง', 'ลองของ', 'ลองใน', 'ลอดช', 'ลอยน', 'ลอร', 'ละ', 'ละคร', 'ละม', 'ละลานตา', 'ละลาย', 'ละว', 'ลา', 'ลาคม', 'ลาง', 'ลาดพร', 'ลาน', 'ลาภ', 'ลาย', 'ลาวา', 'ลาฯ', 'ลาเต', 'วก', 'วคน', 'วง', 'วงน', 'วงหน', 'วงเวลา', 'วงใน', 'วจะ', 'วซ', 'วดลด', 'วตน', 'วน', 'วนต', 'วนลด', 'วนหน', 'วประชาชน', 'วม', 'วมก', 'วย', 'วยก', 'วยขวาง', 'วยจ', 'วยหอม', 'วยเต', 'วร', 'วรรณภ', 'วล', 'วว', 'ววว', 'วววว', 'วส', 'วหน', 'วอ', 'วอร', 'วะ', 'วา', 'วาง', 'วาฟเฟ', 'วเจอร', 'วเอง', 'วโมง', 'วโลก', 'วใจ', 'วไป', 'ศก', 'ศม', 'ศาลา', 'สก', 'สกาย', 'สค', 'สควอท', 'สงวน', 'สงวนส', 'สด', 'สดช', 'สดใส', 'สดๆ', 'สต', 'สตอ', 'สตาร', 'สถานะ', 'สถาบ', 'สท', 'สน', 'สนามบ', 'สนใจ', 'สบด', 'สบาย', 'สปา', 'สปาร', 'สม', 'สมด', 'สมนาค', 'สมา', 'สมาช', 'สมเด', 'สร', 'สล', 'สว', 'สวน', 'สวย', 'สอง', 'สอด', 'สอน', 'สอบถาม', 'สอร', 'สะด', 'สะพาน', 'สะสม', 'สะใจ', 'สา', 'สาขา', 'สาธารณะ', 'สาน', 'สาม', 'สามส', 'สามสาย', 'สามารถ', 'สาย', 'สายบ', 'สาวก', 'สาหก', 'สำค', 'สำน', 'สำร', 'สำรอง', 'สำหร', 'สำเร', 'สเต', 'สเตช', 'สเปซ', 'สแกน', 'สแตมป', 'สโตร', 'สโสะ', 'สไตล', 'สไลด', 'หก', 'หญ', 'หน', 'หนอง', 'หนา', 'หม', 'หมด', 'หมดเขต', 'หมวด', 'หมวย', 'หมอนทอง', 'หมา', 'หมายเลข', 'หมายเหต', 'หย', 'หยก', 'หยวน', 'หยอง', 'หร', 'หรรษา', 'หรา', 'หล', 'หลง', 'หลบ', 'หลอด', 'หลาก', 'หลากหลาย', 'หลาบ', 'หลาย', 'หลายชน', 'หว', 'หวาน', 'หวานเย', 'หอม', 'หอมกร', 'หอย', 'หอยนางรม', 'หา', 'หาก', 'หาง', 'หาด', 'หาย', 'ฬา', 'อก', 'อกสรร', 'อกำหนด', 'อกเขา', 'อกเทล', 'อกโกแลต', 'อกไก', 'อความ', 'อคโกแลต', 'อง', 'องกง', 'องด', 'องท', 'องทาง', 'องปร', 'องพ', 'องส', 'องอาหาร', 'องเค', 'องเต', 'องเท', 'องเร', 'องแกง', 'องใน', 'องใหม', 'อจาก', 'อด', 'อต', 'อถ', 'อน', 'อนกำหนด', 'อนคลาย', 'อนร', 'อนเวลา', 'อนแรง', 'อนไข', 'อบ', 'อบส', 'อบอ', 'อบอวล', 'อป', 'อปป', 'อพ', 'อฟ', 'อฟช', 'อม', 'อมก', 'อย', 'อยกว', 'อยาก', 'อยากร', 'อยใจ', 'อยๆ', 'อร', 'อล', 'อว', 'อส', 'อสอบถาม', 'อหน', 'อหม', 'อหมก', 'ออ', 'ออก', 'ออกมา', 'ออน', 'ออนซ', 'ออนไลน', 'ออฟ', 'ออฟฟ', 'ออร', 'ออสซ', 'ออสเตรเล', 'ออเจ', 'ออเดอร', 'อะ', 'อะไร', 'อะไรก', 'อา', 'อาการ', 'อาคาร', 'อาจ', 'อาท', 'อาย', 'อาราบ', 'อาหาร', 'อาหารกลางว', 'อาหารจ', 'อาหารจานหล', 'อาหารทะเล', 'อาหารเจ', 'อาหารเช', 'อำลา', 'อเน', 'อเฟ', 'อเวลา', 'อแกง', 'อโวคาโด', 'อโศก', 'อไป', 'อไฟ', 'ฮง', 'ฮอก', 'ฮอกไกโด', 'ฮอง', 'ฮอท', 'ฮอลล', 'ฮา', 'ฮาวาย', 'ฯลฯ', 'ะจ', 'ะะะะ', 'าก', 'าของ', 'าของร', 'าค', 'าคะ', 'าง', 'างค', 'างทอง', 'างประเทศ', 'างรถ', 'างหน', 'างเผ', 'างใดอย', 'างๆ', 'าจอ', 'าตอง', 'าน', 'านค', 'านนา', 'านสวน', 'านหน', 'านอาหาร', 'านาย', 'าบ', 'าบร', 'าผ', 'าฝน', 'าฝากขาย', 'าพน', 'าพระยา', 'าม', 'ามา', 'ามใจ', 'าย', 'ายภาพ', 'ายร', 'ายว', 'ายสด', 'ายๆ', 'าร', 'าราชการ', 'าว', 'าวซอย', 'าวต', 'าวป', 'าวผ', 'าวสวย', 'าวอ', 'าวเหน', 'าวแกง', 'าวโพด', 'าส', 'าห', 'าหมาย', 'าฮ', 'าฮวย', 'าา', 'าาา', 'าาาา', 'าาาาา', 'าเด', 'าเพ', 'าเร', 'าแก', 'าใช', 'าไป', 'ำกว', 'ำค', 'ำจ', 'ำชา', 'ำด', 'ำตาล', 'ำปลา', 'ำผ', 'ำผลไม', 'ำม', 'ำยา', 'ำลาย', 'ำส', 'ำอ', 'ำเต', 'ำเปล', 'ำแร', 'ำใจ', 'เก', 'เกร', 'เกรด', 'เกล', 'เกอร', 'เกะ', 'เกาหล', 'เข', 'เขต', 'เขตเทศบาล', 'เขาใหญ', 'เขาไฟ', 'เค', 'เคช', 'เคย', 'เคร', 'เคล', 'เง', 'เจ', 'เจอ', 'เจอก', 'เฉพาะ', 'เฉพาะท', 'เฉล', 'เฉาก', 'เช', 'เชค', 'เชฟ', 'เชลล', 'เชสเตอร', 'เชอ', 'เซ', 'เซต', 'เซนต', 'เซลล', 'เซอร', 'เด', 'เดน', 'เดย', 'เดอะ', 'เต', 'เตย', 'เตร', 'เตา', 'เตาถ', 'เตาอบ', 'เถ', 'เถอะ', 'เท', 'เทพ', 'เทร', 'เทว', 'เทศกาล', 'เทสโก', 'เธอ', 'เน', 'เนย', 'เบ', 'เบคอน', 'เบนโตะ', 'เบยย', 'เบล', 'เบอ', 'เบอร', 'เบา', 'เบเกอร', 'เป', 'เปร', 'เปล', 'เปา', 'เผ', 'เผยแพร', 'เผา', 'เฝอ', 'เพ', 'เพจ', 'เพชรบ', 'เพรส', 'เพราะ', 'เพล', 'เพลย', 'เพศ', 'เฟ', 'เฟด', 'เฟรนช', 'เฟรนฟ', 'เฟรป', 'เฟส', 'เฟอร', 'เม', 'เมตร', 'เมน', 'เมล', 'เย', 'เยอรม', 'เยอะ', 'เร', 'เรนโบว', 'เรย', 'เรา', 'เล', 'เลขหมาย', 'เลย', 'เละ', 'เว', 'เวณ', 'เวย', 'เวลา', 'เวลาเป', 'เวอ', 'เวอร', 'เวเฟอร', 'เศรษฐก', 'เศษ', 'เส', 'เสนอ', 'เสา', 'เสาร', 'เห', 'เหน', 'เหม', 'เหมาะสำหร', 'เหย', 'เหล', 'เหลา', 'เอ', 'เอกม', 'เอง', 'เอท', 'เอน', 'เอม', 'เอส', 'เอสเพรสโซ', 'เอา', 'เอาละ', 'เอาใจ', 'เอเช', 'เอไอเอส', 'เฮ', 'เฮฮา', 'เเชร', 'เเต', 'เเฟต', 'เเม', 'แก', 'แกง', 'แกน', 'แกรนด', 'แกะ', 'แข', 'แขร', 'แค', 'แคชเช', 'แคน', 'แคนยอน', 'แคนาดา', 'แคบหม', 'แคป', 'แคมป', 'แคมเปญ', 'แคร', 'แครง', 'แจ', 'แจก', 'แช', 'แชท', 'แชบ', 'แชร', 'แชะ', 'แซ', 'แซลมอน', 'แด', 'แดง', 'แต', 'แตงกวา', 'แถม', 'แถว', 'แท', 'แทค', 'แทน', 'แน', 'แนบ', 'แนะนำ', 'แบ', 'แบบ', 'แบบน', 'แบรนด', 'แบล', 'แป', 'แปด', 'แปล', 'แปลกใหม', 'แปะ', 'แผ', 'แพ', 'แพง', 'แฟน', 'แม', 'แมคโดน', 'แมน', 'แมนดาร', 'แมลงภ', 'แย', 'แยก', 'แยม', 'แร', 'แรก', 'แรง', 'แรงส', 'แล', 'แลก', 'แลกเปล', 'แลง', 'แลนด', 'และ', 'แวะ', 'แสง', 'แสดง', 'แสตมป', 'แสน', 'แห', 'แหนม', 'แหลม', 'แอ', 'แอคคอร', 'แอด', 'แอนด', 'แอปพล', 'แอพ', 'แอพพล', 'แอฟร', 'แอล', 'แอลกอฮอล', 'แฮ', 'แฮปป', 'โก', 'โกด', 'โกโก', 'โค', 'โคตร', 'โคน', 'โครง', 'โครงการ', 'โคราช', 'โคล', 'โงะ', 'โช', 'โชค', 'โชว', 'โซดา', 'โซน', 'โซล', 'โซะ', 'โด', 'โดด', 'โดน', 'โดย', 'โดยเฉพาะ', 'โดยไม', 'โต', 'โตก', 'โท', 'โทร', 'โทรศ', 'โทส', 'โน', 'โบราณ', 'โบว', 'โป', 'โปร', 'โปรด', 'โปรโมช', 'โพ', 'โพส', 'โพสต', 'โฟร', 'โม', 'โมง', 'โมร', 'โร', 'โรงพยาบาล', 'โรงแรม', 'โรต', 'โรบ', 'โรป', 'โรล', 'โล', 'โลก', 'โลด', 'โลต', 'โลเคช', 'โลเมตร', 'โว', 'โวล', 'โสะ', 'โหด', 'โอ', 'โอกาสด', 'โอกาสพ', 'โอเค', 'โอเล', 'โฮ', 'โฮมเมด', 'ใกล', 'ใคร', 'ใครๆ', 'ใจ', 'ใจคอ', 'ใจร', 'ใช', 'ใด', 'ใน', 'ในเคร', 'ใบ', 'ใบชา', 'ใบตอง', 'ใบหยก', 'ใบเสร', 'ใบไม', 'ใส', 'ให', 'ใหญ', 'ใหม', 'ไก', 'ไกด', 'ไข', 'ไขม', 'ไง', 'ไซ', 'ไซด', 'ไซส', 'ได', 'ไต', 'ไตปลา', 'ไท', 'ไทย', 'ไทยดำ', 'ไนท', 'ไบเทค', 'ไป', 'ไผ', 'ไฟ', 'ไม', 'ไร', 'ไลค', 'ไลท', 'ไลน', 'ไลฟ', 'ไว', 'ไวท', 'ไวน', 'ไวไฟ', 'ไส', 'ไหน', 'ไหว', 'ไอ', 'ไอซ', 'ไอต', 'ไอศกร', 'ไอศคร', 'ๆกด', 'ๆๆ', 'ๆๆๆ', '๑๕', '๒๕๖๑', '๕๐', '๕๐๐', '๖๐', 'たくみ']\n",
      "[[0 0 0 ... 0 0 0]\n",
      " [2 0 0 ... 0 0 0]\n",
      " [0 0 0 ... 0 0 0]\n",
      " ...\n",
      " [0 0 0 ... 0 0 0]\n",
      " [0 0 0 ... 0 0 0]\n",
      " [0 0 0 ... 0 0 0]]\n"
     ]
    }
   ],
   "source": [
    "# Clean up data and Extract Feature\n",
    "\n",
    "traindata['feature'] = traindata.description\n",
    "\n",
    "traindata['feature'] = traindata['feature'].replace('\\n',' ', regex=True)\n",
    "\n",
    "traindata['feature'] = traindata['feature'].replace('[^\\w\\s#@/:%.,_-]', '')\n",
    "\n",
    "# token Thai word\n",
    "traindata['feature'] = traindata['feature'].apply(wordToken)\n",
    "traindata['feature'] = traindata['feature'].apply(' '.join)\n",
    "\n",
    "cv = CountVectorizer()\n",
    "features = cv.fit_transform(traindata['feature'])\n",
    "print(cv.get_feature_names())\n",
    "print(features.toarray())"
   ]
  },
  {
   "cell_type": "code",
   "execution_count": 10,
   "metadata": {},
   "outputs": [],
   "source": [
    "# Find cosine similarity\n",
    "cosine_sim = cosine_similarity(features)"
   ]
  },
  {
   "cell_type": "code",
   "execution_count": 11,
   "metadata": {},
   "outputs": [],
   "source": [
    "promotion = 1\n",
    "\n",
    "similar_promotions = list(enumerate(cosine_sim[promotion]))\n",
    "\n",
    "sorted_similar_promotions = sorted(similar_promotions,key=lambda x:x[1],reverse=True)[1:]"
   ]
  },
  {
   "cell_type": "code",
   "execution_count": 12,
   "metadata": {},
   "outputs": [
    {
     "name": "stdout",
     "output_type": "stream",
     "text": [
      "ทะเล ทะลัก !!   สุดยอด บุฟเฟ่ต์ ทะเล   ที่ คุณ ไม่ ควร พลาด        ลด สูงสุด   60 %   จาก ราคา   1900   บาท สุทธิ !   จอง เลย     วัน ศุกร์ และ วัน เสาร์   ตั้งแต่ เวลา   18.00 - 22.00   น.     ราคา นี้ รวม ชา   กาแฟร้อน ไม่ อั้น   น้ำอัดลม     สมาชิก แอคคอร์ พลัส รับ ส่วนลด ออน ท็อป อีก   10 %\n",
      "------------\n",
      "(80, 0.8981462390204991)\n",
      "ทะเล ทะลัก !!   สุดยอด บุฟเฟ่ต์ ทะเล   ที่ คุณ ไม่ ควร พลาด        ฟิน กับ   บฟเฟต์ ทะเล   ที่ ขน ปูม้า   ปูทะเล   หอยนางรม   กุ้ง แม่น้ำ   กั้งกระดาน   และ อีก มากมาย มา ให้ อร่อย   ลด สูงสุด   60 %   จาก ราคา   1900   บาท สุทธิ !   จอง เลย     ***** วัน ศุกร์ และ วัน เสาร์   ตั้งแต่ เวลา   18.00 - 22.00   น.     ราคา นี้ รวม ชา   กาแฟร้อน ไม่ อั้น   น้ำอัดลม     สมาชิก แอคคอร์ พลัส รับ ส่วนลด ออน ท็อป อีก   10\n",
      "(220, 0.6500000000000001)\n",
      "จอง ตรง ผ่าน เว็บไซต์   ลด สูงสุด   60 %   จาก   1,530   บาท สุทธิ !        บุฟเฟ่ต์ ปู ! กุ้ง !   จัด เต็ม   แบบ ไม่ อั้น      ทุก อาทิตย์   -   พฤหัสบดี   765   บาท ถ้วน !!        ทุก วันอาทิตย์ - พฤหัสบดี   ตั้งแต่ เวลา   18.00 - 22.00   น.     ราคา นี้ รวม   น้ำอัดลม   ชา   กาแฟร้อน ไม่ อั้น     สมาชิก แอคคอร์ พลัส รับ ส่วนลด ออน ท็อป อีก   10 %     กรุณา จอง ล่วงหน้า ก่อน   2   วัน เพื่อ การันตี ที่นั่ง\n",
      "(613, 0.463459297617326)\n",
      "โปร เอาใจ คนรัก   ซี ฟู๊ดส์   และ บาร์บีคิว   ให้ คุณ กิน ได้ ไม่ อั้น   ทั้ง   ซี ฟู๊ดส์   และ บาร์บีคิว   ใน ราคา เพียง   990   ++    ( ราคา ปกติ   1,290   บาท   ) ใน บรรยากาศ ริมทะเล   ทุกวัน เสาร์   ตั้งแต่ เวลา   18.00   น. 22.00   น.       หมายเหตุ   ราคา นี้   ยัง ไม่ รวม   Service   Charge   10 %       ไม่ รวม เครื่องดื่ม   และ Vat   7 %\n",
      "(605, 0.391983154804889)\n",
      "Special   Promotion   มา   4   จ่าย   2   ลด สูงสุด   50 %   ที่   ห้องอาหาร เอ เทรียม      สำหรับ   มื้อ เย็น   วัน ศุกร์   –   เสาร์     2,500   บาท ถ้วน   ( รวม ชา   กาแฟ   ไม่ รวม   น้ำเปล่า และ น้ำอัดลม )    พบ กับ อาหาร พิเศษ   :    ขา แกะ อบ   เนื้อ พาร์ ม ริบ ออสเตรเลีย นอบ   กั้ง   ขา ปู ยักษ์   ปูม้า   ปูทะเล   ปลา แซลมอน    หอย แมลงภู่ นิวซีแลนด์   หอยนางรม นำเข้า   และ อื่นๆ   อีก มากมาย       ตั้งแต่ เวลา   18.00   -   22.30   น\n"
     ]
    }
   ],
   "source": [
    "# Test similarity\n",
    "\n",
    "print(traindata['feature'][promotion])\n",
    "print(\"------------\")\n",
    "\n",
    "i=0\n",
    "for element in sorted_similar_promotions:\n",
    "    print(element)\n",
    "    print(traindata['feature'][element[0]])\n",
    "    i=i+1\n",
    "    if i>3:\n",
    "        break"
   ]
  },
  {
   "cell_type": "markdown",
   "metadata": {},
   "source": [
    "## With NMT"
   ]
  },
  {
   "cell_type": "code",
   "execution_count": 13,
   "metadata": {},
   "outputs": [
    {
     "data": {
      "text/html": [
       "<div>\n",
       "<style scoped>\n",
       "    .dataframe tbody tr th:only-of-type {\n",
       "        vertical-align: middle;\n",
       "    }\n",
       "\n",
       "    .dataframe tbody tr th {\n",
       "        vertical-align: top;\n",
       "    }\n",
       "\n",
       "    .dataframe thead th {\n",
       "        text-align: right;\n",
       "    }\n",
       "</style>\n",
       "<table border=\"1\" class=\"dataframe\">\n",
       "  <thead>\n",
       "    <tr style=\"text-align: right;\">\n",
       "      <th></th>\n",
       "      <th>PromotionId</th>\n",
       "      <th>description</th>\n",
       "      <th>bad</th>\n",
       "      <th>feature_en_nmt</th>\n",
       "    </tr>\n",
       "  </thead>\n",
       "  <tbody>\n",
       "    <tr>\n",
       "      <th>0</th>\n",
       "      <td>1NWLBO3bwOUOB88Sr3GAo31nbptCWW</td>\n",
       "      <td>โปรโมชั่นเปิดร้าน วันนี้วันเดียว\\n\\n\\n\\n18 08 ...</td>\n",
       "      <td>0</td>\n",
       "      <td>It's opening today. One day, 1808 18.         ...</td>\n",
       "    </tr>\n",
       "    <tr>\n",
       "      <th>1</th>\n",
       "      <td>1NWLBqv7ODub2WEc1kjDD4h5DEdal1</td>\n",
       "      <td>สมาชิก</td>\n",
       "      <td>0</td>\n",
       "      <td>Members</td>\n",
       "    </tr>\n",
       "    <tr>\n",
       "      <th>2</th>\n",
       "      <td>1NWLBqu73sYzuFXL4DJsq4gw6cxU10</td>\n",
       "      <td>โปรโมชั่น “Live Canadian Lobster”กับ 3 เมนูสุด...</td>\n",
       "      <td>0</td>\n",
       "      <td>The promotion “Live Canadian Lobster ” and 3 m...</td>\n",
       "    </tr>\n",
       "    <tr>\n",
       "      <th>3</th>\n",
       "      <td>1NWLCcUaQzZ0eeDpZ6Y68wpjSaynFg</td>\n",
       "      <td>เมนูเซ็ต ราคาพิเศษ พร้อมบริการส่งถึงที่</td>\n",
       "      <td>0</td>\n",
       "      <td>Special Price Set Menu at Hand</td>\n",
       "    </tr>\n",
       "    <tr>\n",
       "      <th>4</th>\n",
       "      <td>1NWLAZSnaHLTkubTkprNOmdOcQT23l</td>\n",
       "      <td>empty</td>\n",
       "      <td>1</td>\n",
       "      <td>empty</td>\n",
       "    </tr>\n",
       "  </tbody>\n",
       "</table>\n",
       "</div>"
      ],
      "text/plain": [
       "                      PromotionId  \\\n",
       "0  1NWLBO3bwOUOB88Sr3GAo31nbptCWW   \n",
       "1  1NWLBqv7ODub2WEc1kjDD4h5DEdal1   \n",
       "2  1NWLBqu73sYzuFXL4DJsq4gw6cxU10   \n",
       "3  1NWLCcUaQzZ0eeDpZ6Y68wpjSaynFg   \n",
       "4  1NWLAZSnaHLTkubTkprNOmdOcQT23l   \n",
       "\n",
       "                                         description  bad  \\\n",
       "0  โปรโมชั่นเปิดร้าน วันนี้วันเดียว\\n\\n\\n\\n18 08 ...    0   \n",
       "1                                             สมาชิก    0   \n",
       "2  โปรโมชั่น “Live Canadian Lobster”กับ 3 เมนูสุด...    0   \n",
       "3            เมนูเซ็ต ราคาพิเศษ พร้อมบริการส่งถึงที่    0   \n",
       "4                                              empty    1   \n",
       "\n",
       "                                      feature_en_nmt  \n",
       "0  It's opening today. One day, 1808 18.         ...  \n",
       "1                                            Members  \n",
       "2  The promotion “Live Canadian Lobster ” and 3 m...  \n",
       "3                     Special Price Set Menu at Hand  \n",
       "4                                              empty  "
      ]
     },
     "execution_count": 13,
     "metadata": {},
     "output_type": "execute_result"
    }
   ],
   "source": [
    "# resue NMT file from spam classifier\n",
    "\n",
    "nmt_traindata = pd.read_csv('nmt-full.csv')\n",
    "nmt_traindata.isnull().sum()\n",
    "nmt_traindata.fillna('empty', inplace = True)\n",
    "nmt_traindata.isnull().sum()\n",
    "nmt_traindata.head()"
   ]
  },
  {
   "cell_type": "code",
   "execution_count": 14,
   "metadata": {},
   "outputs": [
    {
     "name": "stdout",
     "output_type": "stream",
     "text": [
      "['00', '000', '002', '015', '02', '022', '023224407', '033', '043', '044', '05', '052', '05399333', '054', '062', '0631408789', '0649492665', '0649649363', '069', '07', '076', '08', '080', '081', '082', '0820862388', '082828', '083', '085', '086', '0866', '0885555950', '089', '0894184489', '09', '090', '0925639', '094', '095', '0968602285', '097', '098', '099', '10', '100', '1000', '1010', '102030', '109', '10th', '11', '110', '1100', '119', '11th', '12', '120', '121', '122', '123', '1234', '124', '125', '127', '129', '12th', '13', '13th', '14', '140', '1400', '1423313', '145', '145780235538933', '148', '149', '14th', '15', '150', '1500', '157', '159', '15th', '16', '1600', '1650', '17', '170', '1700', '171', '175', '179', '17th', '18', '180', '1800', '1808', '181', '188', '189', '18th', '19', '190', '1920', '1951', '196', '199', '19th', '1g', '1r', '1st', '20', '200', '2011', '2013', '2018', '203', '2038', '2056', '208', '209', '20th', '20um', '21', '210', '2100', '2130', '216', '219', '22', '2200', '228', '229', '23', '230', '2300', '23rd', '23th', '24', '240', '2400', '248', '249', '2499', '24sk', '25', '250', '256', '2561', '2562', '256629', '259', '25sk', '25th', '260', '2656', '2679', '269', '27', '270', '275', '276', '278', '28', '285', '29', '290', '299', '2nd', '2ortiu', '30', '300', '301', '30s', '30th', '31', '312', '319', '31st', '31th', '320', '3243588', '33', '340', '3400', '34451695', '347', '349', '35', '350', '352577', '356', '36', '3637', '3695', '37', '380', '385', '39', '390', '398', '399', '3cmun', '40', '400', '4052856', '42', '4207818', '4237', '43', '44', '45', '4567', '459', '465', '4732383', '48', '480', '485', '486', '49', '490', '50', '500', '5008', '509', '511', '51559', '516', '530', '536', '540', '5434', '545', '549', '55', '550', '555', '570', '5889', '59', '596', '599', '59995', '5th', '60', '600', '600377', '6074323', '61', '612', '618', '61th', '62', '6289', '6414', '6477', '650', '654', '659', '6602484', '663', '666', '67', '6736', '68', '6885188717139', '69', '699', '70', '700', '7033', '707', '71', '7315', '7330', '7339', '7461424', '75', '750', '759', '777', '7771', '79', '790', '794542', '7945422', '799', '80', '800', '803087', '81', '8231', '83', '833', '850', '855', '88', '888', '8880', '899', '8th', '90', '900', '9000', '92', '9262885', '9347723', '9414', '95', '950', '9532', '9635', '99', '991', '9949', '999', '9th', '_other', 'a4', 'aah', 'aargh', 'ability', 'able', 'about', 'above', 'absolut', 'acai', 'accept', 'accepted', 'accepting', 'accompanying', 'according', 'accorpus', 'acids', 'across', 'action', 'activities', 'activity', 'ad', 'add', 'added', 'adding', 'addition', 'additional', 'adds', 'adline', 'admasa', 'admirably', 'adsage', 'adult', 'adulted', 'adults', 'advance', 'advice', 'advocate', 'africa', 'african', 'after', 'afternoon', 'afternoons', 'afterwork', 'aga', 'again', 'ages', 'agreement', 'ahare', 'ahead', 'aigo', 'ain', 'air', 'airport', 'airports', 'ais', 'akami', 'alcohol', 'algae', 'alive', 'all', 'alley', 'allkind', 'allowed', 'allowing', 'alo', 'alone', 'along', 'already', 'also', 'am', 'amazon', 'american', 'americano', 'amorphic', 'amount', 'an', 'ana', 'anangus', 'anchovie', 'ancient', 'and', 'anger', 'angstritine', 'anniversary', 'another', 'answer', 'any', 'anymore', 'anything', 'apartments', 'apiece', 'apinman', 'apostle', 'app', 'appetite', 'applause', 'apple', 'application', 'applies', 'apply', 'approach', 'appropriate', 'appwar', 'arabica', 'arazza', 'are', 'arguably', 'armitycoffee', 'arms', 'army', 'aroma', 'around', 'arranged', 'arrive', 'arrived', 'arrives', 'arriving', 'art', 'articles', 'artifice', 'artificials', 'as', 'asahi', 'asian', 'ask', 'asking', 'asparagus', 'associated', 'at', 'ate', 'atmosphere', 'attached', 'attend', 'attending', 'attention', 'aug', 'augertro', 'august', 'augusts', 'augustพ', 'aunt', 'aurijinol', 'australia', 'autistic', 'available', 'avenue', 'average', 'avocado', 'avocadoma', 'awaits', 'awake', 'away', 'azahi', 'bab', 'baba', 'baby', 'back', 'backup', 'backups', 'bacon', 'bad', 'bag', 'bags', 'baht', 'baked', 'baker', 'bakery', 'baking', 'balanced', 'ball', 'balls', 'bamboo', 'banadiary', 'banana', 'bananas', 'band', 'bang', 'banga', 'bangana', 'bangkae', 'bangkok', 'bangok', 'bangokuffett', 'bank', 'bansengchan', 'baq', 'bar', 'barbecue', 'barbecued', 'barbecues', 'barista', 'bars', 'basin', 'basket', 'baskets', 'basshai', 'bathroom', 'bbl', 'bbq', 'be', 'beakry', 'beaky', 'bean', 'beans', 'beat', 'beatter', 'beauf', 'beautiful', 'beauty', 'because', 'bed', 'beef', 'beefy', 'been', 'beer', 'beers', 'before', 'began', 'beginning', 'begins', 'behind', 'beiequete', 'beijing', 'beijingn', 'being', 'belongings', 'beloved', 'bench', 'benefit', 'benefiting', 'benefits', 'bento', 'berblae', 'best', 'betrayers', 'bets', 'better', 'bettoli', 'between', 'beyoke', 'beyond', 'beyondfy', 'bg', 'bibananane', 'bible', 'big', 'bill', 'billion', 'bills', 'bing', 'bingha', 'bingsu', 'binguzzu', 'bird', 'birth', 'birthday', 'birthdayers', 'birthdays', 'biryana', 'bit', 'bite', 'bitess', 'bk', 'black', 'blackback', 'blast', 'blend', 'blended', 'bless', 'blessed', 'blessing', 'blocks', 'bloe', 'blubber', 'blue', 'blueberries', 'blueberry', 'blued', 'bo', 'boat', 'body', 'boft', 'bold', 'bombs', 'bone', 'book', 'bookers', 'booking', 'boraux', 'born', 'boss', 'both', 'bottle', 'bottles', 'bought', 'bounced', 'bow', 'bowl', 'bowls', 'box', 'boxes', 'boxing', 'bq', 'branch', 'branches', 'brand', 'brandishing', 'brands', 'brankota', 'braunch', 'bravo', 'bread', 'breads', 'break', 'breakfast', 'breast', 'breeding', 'breveaux', 'brew', 'brewing', 'bright', 'bring', 'brings', 'brococoli', 'broiled', 'brooklyn', 'brother', 'brothers', 'brought', 'brown', 'brutal', 'bruyarga', 'bts', 'bubbles', 'bucks', 'budddes', 'budweiser', 'buetang', 'buffet', 'buffetation', 'buffeted', 'buffeting', 'buffets', 'buffuff', 'build', 'building', 'bullue', 'bulphs', 'bupfee', 'burden', 'burger', 'burgers', 'burn', 'burned', 'burning', 'burs', 'business', 'but', 'buttauce', 'butter', 'butterbeer', 'button', 'buy', 'buyed', 'buying', 'buys', 'buysy', 'by', 'bye', 'byer', 'cabbage', 'cabin', 'cacao', 'cafe', 'caffe', 'café', 'cake', 'cakes', 'caleb', 'call', 'callerable', 'calmon', 'came', 'campaign', 'campaigning', 'campus', 'can', 'canacotta', 'canadian', 'canal', 'canals', 'candles', 'candy', 'cane', 'cannot', 'cant', 'canyon', 'cap', 'cape', 'capital', 'capma', 'cappuccino', 'caps', 'capsule', 'car', 'carbohydrine', 'carbs', 'card', 'cardholders', 'cards', 'care', 'carmeel', 'carnada', 'carry', 'carteoffer', 'carton', 'cartons', 'carve', 'casa', 'case', 'cases', 'cash', 'cashier', 'cast', 'catfish', 'cating', 'caucasians', 'caucasion', 'caught', 'caw', 'cayle', 'cckin', 'cedio', 'cefusian', 'celebrate', 'celebrated', 'celebrates', 'celebrating', 'celebration', 'celelo', 'celery', 'cell', 'cement', 'center', 'central', 'cents', 'cerif', 'certain', 'cervatori', 'ceyloskibar', 'cha', 'chabooud', 'chabu', 'chabuca', 'chad', 'chaf', 'chain', 'chair', 'chaise', 'challenge', 'challenged', 'cham', 'champgan', 'chan', 'chance', 'chang', 'change', 'channel', 'channels', 'chaptor', 'charcoal', 'charge', 'charges', 'chasing', 'chaste', 'chat', 'chats', 'chatts', 'cheap', 'cheapest', 'cheat', 'chebetma', 'check', 'checked', 'checkin', 'checking', 'checks', 'cheece', 'cheee', 'cheef', 'cheer', 'cheerful', 'cheers', 'cheese', 'cheeses', 'chef', 'chefs', 'cher', 'cherries', 'chest', 'chester', 'chevroyélloche', 'chevy', 'chewing', 'chicago', 'chick', 'chicken', 'chicon', 'child', 'children', 'chile', 'chili', 'chill', 'chin', 'china', 'chinese', 'chip', 'chips', 'chisse', 'chisso', 'chivalry', 'chloro', 'chocolate', 'chocolates', 'choice', 'choose', 'chosen', 'christie', 'cinesce', 'cinese', 'circle', 'circuit', 'circumnavigated', 'citbing', 'cities', 'city', 'civet', 'cixixio', 'cixixixio', 'cixixo', 'cixixocixocueee', 'cixo', 'claim', 'claire', 'clams', 'class', 'classes', 'classic', 'claté', 'clavicle', 'clean', 'cleaned', 'cleanliness', 'cleansing', 'clear', 'click', 'client', 'clients', 'clip', 'clock', 'close', 'closed', 'closes', 'clothes', 'club', 'clubs', 'cm', 'co', 'coagulant', 'coat', 'coated', 'cocktails', 'coco', 'cocoa', 'coconut', 'coconuts', 'code', 'coffee', 'coffees', 'coke', 'colablaze', 'colat', 'cold', 'cole', 'colette', 'collect', 'collecting', 'collection', 'collections', 'collects', 'color', 'colored', 'com', 'combination', 'combines', 'come', 'comes', 'comfortable', 'comin', 'coming', 'command', 'commanded', 'commendation', 'comment', 'commercial', 'common', 'company', 'complete', 'compulsion', 'con', 'concentration', 'concorde', 'condiments', 'condition', 'conditions', 'condo', 'cones', 'congee', 'congested', 'conned', 'conniving', 'consisting', 'construction', 'contact', 'contain', 'control', 'cook', 'cooked', 'cooker', 'cookie', 'cooking', 'cooks', 'cool', 'coordinates', 'copper', 'copy', 'cora', 'corn', 'corner', 'corrals', 'corresponds', 'cost', 'costs', 'costume', 'could', 'counter', 'countries', 'country', 'couple', 'coupled', 'coupon', 'coupons', 'course', 'courses', 'couter', 'cove', 'covee', 'cover', 'covered', 'covetier', 'coxttail', 'crab', 'crabs', 'crackers', 'craftbeer', 'cran', 'crank', 'crates', 'craves', 'cream', 'creature', 'credit', 'creep', 'creet', 'cremation', 'crete', 'crew', 'crisses', 'cristal', 'croatmouth', 'croix', 'crowded', 'crubs', 'cruise', 'crunky', 'cub', 'cucumbers', 'cue', 'cup', 'cupcakes', 'cups', 'currently', 'currents', 'curry', 'custard', 'custards', 'customer', 'customers', 'cut', 'cute', 'cuts', 'cycle', 'cycs', 'cyphus', 'daily', 'dan', 'dare', 'dares', 'darjelling', 'darkcuck', 'date', 'dateak', 'dating', 'david', 'day', 'days', 'dcreward', 'ddac', 'ddreward', 'de', 'dead', 'dear', 'december', 'decent', 'decline', 'decrease', 'decrepit', 'dedication', 'deep', 'degree', 'degrees', 'delicious', 'deliciously', 'deliciousness', 'delighted', 'delivered', 'delivers', 'delivery', 'delivey', 'demand', 'demonstration', 'den', 'denial', 'deposit', 'depth', 'derek', 'derived', 'desert', 'dessert', 'desserts', 'details', 'devotion', 'dhaka', 'dhdggd', 'dial', 'diamond', 'diamonds', 'did', 'diet', 'dietak', 'different', 'diiji', 'dilivury', 'diminutives', 'din', 'ding', 'dining', 'dinner', 'dip', 'diphtheria', 'dips', 'dipty', 'direct', 'directed', 'directly', 'directs', 'disappointed', 'discern', 'disciple', 'disciples', 'discount', 'discounted', 'discounting', 'discounts', 'dish', 'dishes', 'display', 'distance', 'distinction', 'distribute', 'distributed', 'district', 'districts', 'dividing', 'do', 'doble', 'dod', 'does', 'doesn', 'doi', 'doing', 'dollar', 'dollars', 'dolly', 'domestic', 'don', 'donburi', 'done', 'dong', 'donut', 'dory', 'double', 'dough', 'doughnuts', 'down', 'downing', 'downtown', 'doy', 'dpwash', 'drad', 'draf', 'dragan', 'drank', 'draw', 'dream', 'dreams', 'dress', 'dresses', 'dried', 'drill', 'drink', 'drinking', 'drinks', 'drip', 'drop', 'dropped', 'dropping', 'drops', 'drowing', 'dry', 'dtac', 'duck', 'ducks', 'dumb', 'duo', 'during', 'dust', 'dy', 'dynasty', 'each', 'ear', 'easier', 'eastville', 'easy', 'eat', 'eaten', 'eater', 'eating', 'eats', 'economic', 'edged', 'edges', 'edition', 'eel', 'eels', 'effort', 'egaan', 'egg', 'eggs', 'eight', 'eights', 'either', 'elephant', 'elevator', 'embossed', 'emerald', 'emeralds', 'empansity', 'employee', 'employees', 'empty', 'emup', 'en', 'enacting', 'encouragement', 'encyclopedia', 'end', 'endless', 'ends', 'engava', 'english', 'enjoy', 'enjoyable', 'enjoyed', 'enlist', 'enough', 'entered', 'entire', 'entomological', 'entrance', 'environment', 'equal', 'escacondalioncave', 'esley', 'especially', 'espresso', 'essy', 'esy', 'et', 'etbistr', 'etigo', 'etnas', 'etranger', 'etreum', 'europe', 'european', 'even', 'evening', 'evenings', 'ever', 'every', 'everyday', 'everyone', 'everything', 'evidence', 'evil', 'evils', 'evocative', 'example', 'excellent', 'except', 'exchange', 'exclaiming', 'exclusio', 'exclusive', 'execive', 'exercise', 'exerts', 'exhausted', 'exist', 'expensive', 'experience', 'expired', 'expires', 'exposed', 'express', 'extended', 'extra', 'extracts', 'extremely', 'eye', 'face', 'facebook', 'fact', 'factories', 'factory', 'fahrenheit', 'fail', 'fair', 'fall', 'falls', 'false', 'families', 'family', 'fani', 'fast', 'fastival', 'fat', 'father', 'favola', 'favorite', 'favorites', 'fb', 'fbs', 'feast', 'feathers', 'february', 'fed', 'fee', 'feet', 'fell', 'fergrest', 'fermenting', 'ferns', 'festival', 'feti', 'fetucci', 'fichechep', 'fierce', 'fiest', 'fifteen', 'fifty', 'fig', 'fighting', 'filets', 'fill', 'filled', 'filling', 'final', 'finally', 'find', 'fine', 'fined', 'finest', 'finished', 'finn', 'finny', 'fins', 'fire', 'first', 'fish', 'fisherman', 'fitz', 'fiva', 'five', 'flag', 'flans', 'flavor', 'flavored', 'flavors', 'fleans', 'flesh', 'fleshy', 'flight', 'floating', 'floor', 'flour', 'flourcombination', 'flow', 'flower', 'flowering', 'fluffoneous', 'flying', 'fob', 'focus', 'focused', 'foie', 'folder', 'follow', 'fondue', 'font', 'food', 'foods', 'foot', 'for', 'force', 'foreign', 'forest', 'forester', 'forges', 'forget', 'forgets', 'fork', 'form', 'formatted', 'formula', 'forow', 'forth', 'forts', 'forty', 'forward', 'foto', 'found', 'four', 'fourth', 'fragrances', 'frame', 'frames', 'france', 'fransf', 'free', 'freebie', 'freed', 'freely', 'frein', 'freins', 'french', 'fresco', 'fresh', 'freshened', 'fresher', 'freshest', 'freshly', 'frest', 'friday', 'fridays', 'fried', 'frieds', 'friend', 'friends', 'from', 'front', 'frontbook', 'frozen', 'fruit', 'fruitosoe', 'fruits', 'fruitty', 'frut', 'fry', 'ft', 'fuck', 'fudge', 'fuger', 'fukup', 'full', 'fully', 'fun', 'fung', 'fuzio', 'fuzocage', 'fét', 'gain', 'galaxy', 'galilee', 'gallons', 'galxy', 'games', 'gant', 'garden', 'garku', 'garlic', 'gas', 'gate', 'gates', 'gathering', 'gauguin', 'gave', 'gay', 'gbk', 'gehei', 'generation', 'generations', 'gentlemen', 'genuine', 'german', 'get', 'gets', 'getting', 'giant', 'gift', 'gifts', 'gill', 'girl', 'girlfriend', 'give', 'given', 'giver', 'giving', 'glass', 'glasses', 'global', 'glter', 'glucose', 'gm', 'go', 'goan', 'goat', 'god', 'godly', 'goes', 'goff', 'gog', 'going', 'gold', 'golden', 'gone', 'gonna', 'good', 'goodbye', 'goodness', 'goods', 'gooey', 'google', 'goose', 'got', 'gotas', 'government', 'goอนร', 'grab', 'grade', 'graduation', 'grain', 'grams', 'grand', 'grandpa', 'grastate', 'great', 'greater', 'green', 'greenchef', 'greet', 'grey', 'greyhound', 'grill', 'grilled', 'grilling', 'grinding', 'griyhound', 'group', 'grudgingly', 'guards', 'guavaddd', 'guda', 'guests', 'gui', 'guilt', 'guise', 'guises', 'gum', 'gunt', 'gusshi', 'gut', 'gwai', 'gwaiw', 'gym', 'gymnad', 'gyre', 'had', 'haif', 'half', 'hall', 'han', 'hand', 'handouts', 'handsome', 'hani', 'hank', 'hapa', 'happiness', 'happy', 'hard', 'has', 'hashtag', 'hatai', 'have', 'having', 'hawaan', 'hb', 'hdjdivchus', 'he', 'head', 'headheads', 'heads', 'headstrong', 'health', 'healthy', 'heart', 'hearts', 'heat', 'heavy', 'hegarden', 'heha', 'heimawari', 'heineken', 'held', 'hello', 'help', 'helty', 'hens', 'her', 'herb', 'herbs', 'here', 'herent', 'herhey', 'hertrej', 'hey', 'hi', 'hibachi', 'high', 'highballs', 'higher', 'highest', 'him', 'himalayas', 'hip', 'his', 'histom', 'hit', 'hmmmmmm', 'hoe', 'hoge', 'hokkaido', 'hoku', 'hold', 'holders', 'holiday', 'holidayers', 'holidays', 'holy', 'home', 'homeed', 'honey', 'hong', 'hope', 'horse', 'horses', 'hoshi', 'hot', 'hotel', 'hotels', 'hour', 'hours', 'house', 'how', 'however', 'http', 'https', 'huh', 'hui', 'human', 'humans', 'hundred', 'hungry', 'hunt', 'hunting', 'hunts', 'huo', 'hurry', 'hurt', 'husky', 'ibox', 'ice', 'iced', 'icesara', 'icy', 'id', 'if', 'ig', 'ii', 'iinbox', 'immeadely', 'immediate', 'immediately', 'importance', 'important', 'imported', 'importing', 'impossible', 'impressed', 'impression', 'in', 'inbox', 'inc', 'inch', 'include', 'included', 'includes', 'including', 'increase', 'increases', 'indian', 'inform', 'information', 'informed', 'ingredients', 'inner', 'insect', 'insects', 'insertes', 'inside', 'insides', 'inspect', 'inspired', 'instagram', 'instant', 'instead', 'instructions', 'intalan', 'intentions', 'interest', 'interested', 'international', 'internet', 'interviews', 'intestines', 'into', 'intra', 'intragram', 'intraliab', 'intriguing', 'introducing', 'invasion', 'investigators', 'invitation', 'invite', 'invited', 'inviting', 'ioee', 'is', 'island', 'issue', 'issued', 'istalocakok', 'it', 'italian', 'italy', 'item', 'items', 'its', 'ittalian', 'ix', 'ja', 'jade', 'jam', 'jant', 'january', 'japan', 'japane', 'japanese', 'jar', 'jars', 'javnue', 'jed', 'jehovah', 'jia', 'jiao', 'jibba', 'jims', 'jinnie', 'join', 'joint', 'joints', 'jointวม', 'joy', 'juan', 'juice', 'juki', 'july', 'jumbo', 'jump', 'june', 'jung', 'just', 'jvjqqrjnvm', 'jw', 'ka', 'kaffe', 'kagi', 'kaiseki', 'kaizen', 'kakigori', 'kale', 'kalefish', 'kana', 'kanimiso', 'kano', 'kapera', 'kapuchino', 'karamel', 'karaoke', 'keck', 'keep', 'keeps', 'kelp', 'kematan', 'key', 'kfc', 'kg', 'khurrobuta', 'kid', 'killax', 'kilo', 'kilometers', 'kim', 'kimkutsu', 'kind', 'kindly', 'kinds', 'kingset', 'kinshiro', 'kisso', 'kit', 'kitchen', 'kitte', 'km', 'knees', 'knmv2', 'know', 'known', 'kochas', 'koe', 'koffee', 'kong', 'konkam', 'konokum', 'korean', 'kraft', 'krakasa', 'ktc', 'kurobuta', 'kusey', 'lab', 'labs', 'lace', 'lack', 'lactic', 'lactobacilli', 'ladies', 'lady', 'lager', 'lagoon', 'lak', 'lama', 'lane', 'lao', 'lapbaan', 'laps', 'large', 'larger', 'largest', 'lassy', 'last', 'latte', 'lattes', 'latto', 'lattobacilli', 'launch', 'laundromat', 'lav', 'lava', 'law', 'ld', 'lded', 'le', 'leafed', 'leap', 'least', 'leave', 'leaves', 'lef', 'left', 'legend', 'legendary', 'legs', 'leif', 'leis', 'leke', 'lekes', 'lemon', 'lemons', 'leo', 'leoe', 'less', 'lest', 'let', 'letao', 'letter', 'level', 'li', 'licenses', 'life', 'lifts', 'light', 'lighting', 'lightly', 'like', 'likes', 'lily', 'limit', 'limited', 'limiting', 'limits', 'line', 'lineman', 'linid', 'liniman', 'link', 'linked', 'linman', 'lion', 'lip', 'liquid', 'list', 'lists', 'listy', 'liter', 'little', 'live', 'liver', 'liverie', 'livers', 'lives', 'living', 'lke', 'll', 'llke', 'lo', 'lobster', 'lobsters', 'lobstrer', 'local', 'location', 'lodger', 'lollipop', 'long', 'longdag', 'look', 'looking', 'lord', 'lose', 'lost', 'lot', 'lotion', 'lots', 'lotus', 'love', 'loved', 'lover', 'lovers', 'loves', 'low', 'lower', 'lowering', 'lr', 'lsalis', 'lucky', 'lugget', 'lunch', 'lunches', 'lux', 'luxury', 'ly', 'lyk', 'lyke', 'lyman', 'lynn', 'lynne', 'ma', 'mac', 'machine', 'machines', 'made', 'magnification', 'magurostak', 'maharaa', 'mail', 'main', 'make', 'making', 'mal', 'mall', 'maltera', 'mama', 'mammary', 'man', 'manager', 'manapon', 'mandarin', 'mango', 'mani', 'mania', 'mannfu', 'many', 'map', 'maphin', 'maps', 'marble', 'march', 'margerita', 'maria', 'marine', 'market', 'marley', 'marriot', 'marrow', 'martt', 'mary', 'masala', 'mash', 'masilia', 'mat', 'matar', 'match', 'materials', 'matter', 'maum', 'max', 'maximum', 'may', 'mcdonald', 'mcg', 'mch', 'me', 'mea_bar_bar_bar_bar_io', 'meal', 'meals', 'meat', 'meatball', 'meated', 'meats', 'meber', 'meet', 'meeting', 'meetings', 'meets', 'mega', 'mellowmeat', 'member', 'members', 'membership', 'membershipholders', 'memorial', 'menné', 'menu', 'menus', 'merchant', 'mercy', 'mere', 'meridian', 'message', 'messages', 'met', 'meters', 'metres', 'midday', 'middle', 'might', 'mighty', 'mikagan', 'mil', 'mile', 'miles', 'milf', 'milk', 'million', 'mills', 'min', 'mine', 'mini', 'minimum', 'minister', 'ministry', 'minute', 'minutes', 'miso', 'miss', 'missed', 'missing', 'missionary', 'misunderstanding', 'mixberry', 'mixed', 'mixture', 'mk', 'ml', 'mo', 'mobile', 'mocca', 'mocha', 'mokopot', 'molars', 'molasses', 'molatany', 'mollarella', 'mollarla', 'mollusk', 'mollusks', 'molten', 'mom', 'moment', 'mon', 'monday', 'money', 'monkeys', 'monster', 'month', 'monthly', 'months', 'moon', 'moons', 'more', 'morning', 'morningly', 'most', 'mother', 'mothers', 'motorcycle', 'motors', 'motouring', 'mount', 'mouth', 'move', 'moved', 'moxttails', 'mr', 'mrt', 'muay', 'much', 'mud', 'muji', 'multicolored', 'munfanbuft', 'murder', 'murg', 'mushroom', 'mushrooms', 'music', 'must', 'mutton', 'my', 'mála', 'naban', 'nai', 'naja', 'name', 'named', 'nanny', 'nantes', 'nao', 'naphorite', 'narcissism', 'nation', 'national', 'nations', 'natural', 'nature', 'near', 'neck', 'needed', 'neger', 'negi', 'neighborhood', 'net', 'never', 'new', 'newest', 'news', 'nex', 'next', 'nice', 'nicele', 'niceview', 'niger', 'night', 'nightful', 'nights', 'nil', 'nilthes', 'nimman', 'nine', 'ningsum', 'nishigi', 'nisit', 'nitra', 'nitracika', 'nitro', 'no', 'nobicial', 'nobisha', 'noir', 'none', 'nont', 'noodle', 'noodles', 'noon', 'nope', 'nor', 'normal', 'normally', 'norway', 'not', 'note', 'nothing', 'notice', 'noua', 'november', 'now', 'nua', 'number', 'nyla', 'obey', 'observe', 'obtain', 'obtained', 'occasion', 'ocean', 'october', 'of', 'off', 'office', 'offices', 'officially', 'oh', 'okay', 'okina', 'okinawa', 'okrasa', 'old', 'oldest', 'olds', 'omacase', 'omelets', 'on', 'once', 'one', 'ones', 'onion', 'onions', 'online', 'only', 'ont', 'ontreehill', 'onwards', 'open', 'opened', 'opening', 'openings', 'opens', 'opportunity', 'opposite', 'options', 'or', 'orange', 'oranges', 'orayon', 'order', 'ordered', 'ordering', 'orders', 'org', 'organic', 'organiser', 'organization', 'organizations', 'origano', 'original', 'ornbnk', 'osen', 'other', 'others', 'otoya', 'otter', 'ounces', 'our', 'ours', 'out', 'outer', 'outside', 'oven', 'ovens', 'over', 'overflows', 'overset', 'own', 'owner', 'owners', 'oyster', 'oysters', 'ozen', 'pack', 'packs', 'page', 'pages', 'pah', 'pai', 'paid', 'paige', 'pain', 'pair', 'paired', 'pale', 'pamphlet', 'pan', 'paner', 'paniperi', 'panorama', 'panoramic', 'pans', 'pansa', 'papa', 'paramna', 'park', 'parking', 'parmrib', 'parona', 'part', 'participate', 'participates', 'particular', 'parties', 'party', 'passed', 'passing', 'passions', 'passry', 'past', 'pasta', 'pastries', 'pathanitabeth', 'pattha', 'patthanitabeth', 'paul', 'paulo', 'pay', 'payable', 'payday', 'payin', 'paying', 'payment', 'pays', 'pcs', 'peace', 'peaceable', 'pearl', 'pearls', 'ped', 'peed', 'peking', 'pennyfish', 'people', 'pepper', 'peppered', 'peppers', 'peps', 'pepsi', 'pepsy', 'per', 'percent', 'perfume', 'perfumed', 'perimeter', 'period', 'permition', 'person', 'personal', 'peter', 'pharmaceuticals', 'phase', 'phil', 'philemon', 'phone', 'photo', 'photocake', 'photography', 'photos', 'pic', 'pice', 'pick', 'picked', 'pickled', 'picture', 'pictures', 'pie', 'piece', 'pieces', 'pierces', 'pig', 'pigs', 'pikation', 'pillows', 'pine', 'pineapple', 'ping', 'pings', 'pink', 'pinklao', 'pins', 'pipe', 'pisa', 'pissa', 'pitch', 'pitcher', 'piza', 'pizamasalliak', 'pizazabck', 'pizazachillaskumvit', 'pizza', 'pizzas', 'pizzeria', 'place', 'placed', 'plastic', 'plate', 'plattana', 'plaxa', 'plaza', 'pleasant', 'please', 'pleasure', 'pleasures', 'plitters', 'plot', 'pls', 'plua', 'pluarska', 'plus', 'plára', 'pm', 'pneumonic', 'po', 'pocks', 'point', 'points', 'polaska', 'police', 'policy', 'pomotion', 'poonpoon', 'pop', 'poplar', 'popular', 'porch', 'porcini', 'pork', 'port', 'possey', 'possible', 'post', 'posted', 'posting', 'pot', 'pota', 'potatoes', 'potya', 'pound', 'pounds', 'powder', 'power', 'ppsi', 'pre', 'preach', 'precipitation', 'prefer', 'preferred', 'premise', 'premium', 'prepared', 'prepares', 'present', 'presentation', 'presents', 'preservation', 'preserve', 'president', 'press', 'pressed', 'pressing', 'presumption', 'pretzel', 'price', 'priced', 'prices', 'priceคา', 'pride', 'prilegs', 'primes', 'prince', 'private', 'privilege', 'privileged', 'privileges', 'prize', 'prizes', 'pro', 'proboom', 'proboscis', 'process', 'procession', 'procrastination', 'prod', 'prode', 'prods', 'product', 'productation', 'production', 'products', 'professional', 'professor', 'profit', 'progans', 'program', 'programs', 'progressions', 'proi', 'project', 'prolysts', 'proma', 'promation', 'promise', 'promition', 'promitions', 'promo', 'promoration', 'promote', 'promoted', 'promotion', 'promotional', 'promotions', 'promotlon', 'pront', 'pronunciation', 'proprofessor', 'pros', 'proselyte', 'prosperation', 'prosperity', 'prostitute', 'prostitutes', 'prostitution', 'prototlon', 'prove', 'provided', 'province', 'proving', 'pry', 'ptia_bar_bar_46', 'ptummas', 'pualaska', 'pubhis', 'public', 'publication', 'publicly', 'published', 'pudding', 'puff', 'puffed', 'puffs', 'puffy', 'pumpa', 'purchase', 'purchased', 'pure', 'purple', 'push', 'puss', 'put', 'puthya', 'putya', 'pygmy', 'pyrenees', 'pythmia', 'qiuin', 'qr', 'quality', 'quart', 'queen', 'query', 'querying', 'questioning', 'questions', 'quick', 'quier', 'quiet', 'quietness', 'rabiga', 'rabigajat', 'rabigajatt', 'radler', 'ragged', 'rain', 'rainy', 'raise', 'raj', 'rajab', 'rajtwei', 'raka', 'rakatausifuswood', 'ram', 'rama', 'ramada', 'ramen', 'ran', 'rapit', 'ratananachiangmai', 'rate', 'rather', 'raw', 're', 'reaches', 'read', 'readers', 'ready', 'real', 'really', 'rear', 'reasonable', 'receipt', 'receive', 'received', 'receives', 'receiving', 'recently', 'reception', 'recipe', 'recipes', 'recipient', 'recommend', 'recommended', 'reconstructor', 'recovered', 'red', 'redison', 'reduce', 'reduced', 'reduces', 'reduction', 'reeve', 'refield', 'refreshments', 'refressten', 'refrigerators', 'refusing', 'regal', 'regardless', 'region', 'regularly', 'relax', 'relaxed', 'released', 'relph', 'remend', 'renble', 'renew', 'repeat', 'replel', 'replete', 'report', 'representative', 'represents', 'request', 'requesting', 'requests', 'requirements', 'reservation', 'reservations', 'reserve', 'reserved', 'resolved', 'resort', 'resources', 'respond', 'responsiblely', 'rest', 'restant', 'restaurant', 'restaurants', 'rests', 'resume', 'retailed', 'retaining', 'retains', 'return', 'returned', 'reveil', 'reversive', 'review', 'reviews', 'revil', 'reward', 'rewarding', 'reyka', 'rezipe', 'rib', 'ribbit', 'ribs', 'rice', 'rich', 'riches', 'right', 'rights', 'ring', 'rings', 'ripe', 'river', 'riverside', 'road', 'roast', 'roasted', 'roasters', 'roasting', 'roasts', 'robinson', 'rockhead', 'roll', 'rollin', 'room', 'rooms', 'rope', 'rosa', 'rossed', 'rotitan', 'round', 'rourself', 'rousky', 'row', 'royal', 'rubies', 'rubin', 'ruby', 'rules', 'ruminants', 'run', 'runch', 'runsit', 'runsitt', 'rush', 'ruv', 'rye', 'ryna', 'ryong', 'rysling', 'réka', 'saba', 'sabuoodramprint', 'sachimi', 'sacks', 'sacrifice', 'sacrificing', 'safe', 'saflyo', 'saguura', 'said', 'saize', 'sake', 'sala', 'salad', 'salads', 'salale', 'salapa', 'salapas', 'salary', 'sale', 'sales', 'salmon', 'salt', 'salted', 'salvery', 'same', 'samimisalmon', 'samina', 'samon', 'samosa', 'samsung', 'samura', 'san', 'saoul', 'sashi', 'sashimi', 'sasimi', 'satisfied', 'satisfying', 'saturday', 'saturdays', 'sauca', 'sauce', 'sauces', 'sausage', 'sausages', 'sauschef', 'save', 'savo', 'say', 'says', 'sburger', 'scalded', 'scalding', 'scale', 'scallop', 'scan', 'scap', 'scb', 'scented', 'scents', 'schedule', 'school', 'scoozy', 'score', 'screen', 'scriptivist', 'scriptures', 'sders', 'sea', 'seaboards', 'seafish', 'seafood', 'seams', 'search', 'seas', 'season', 'seasoned', 'seasons', 'seat', 'seats', 'seawood', 'second', 'seconds', 'secret', 'seducated', 'see', 'seeds', 'sefuts', 'select', 'selected', 'seleucon', 'self', 'selling', 'semester', 'seminars', 'send', 'sending', 'senitor', 'sent', 'seoul', 'september', 'septrate', 'serefresch', 'series', 'serif', 'serifa', 'serve', 'served', 'service', 'services', 'serving', 'session', 'set', 'seth', 'setlusasian', 'sets', 'seul', 'seven', 'sextant', 'shabu', 'shake', 'shame', 'shar', 'share', 'shared', 'sharing', 'shark', 'sharp', 'sharper', 'she', 'sheep', 'sheet', 'shell', 'shells', 'sher', 'shere', 'ship', 'shipping', 'shirao', 'shirt', 'shiuu', 'shiuuuuu', 'shizen', 'shofting', 'shoot', 'shooting', 'shop', 'shopping', 'shops', 'short', 'shot', 'shots', 'should', 'show', 'showed', 'showing', 'shown', 'shows', 'shrimp', 'shrimps', 'shuffet', 'shup', 'shut', 'siblings', 'sicily', 'sid', 'side', 'sided', 'sifort', 'sighs', 'sign', 'signage', 'signature', 'signs', 'sima', 'simple', 'simply', 'since', 'singha', 'single', 'siph', 'sipping', 'sir', 'sirif', 'sirlion', 'sit', 'site', 'sites', 'sits', 'sitting', 'six', 'size', 'sized', 'skiff', 'skin', 'skind', 'skins', 'skits', 'sky', 'slanderers', 'sleepover', 'slice', 'slices', 'slide', 'slip', 'slow', 'slutty', 'small', 'smile', 'smiling', 'smoothness', 'smuthaie', 'smutty', 'snack', 'snacks', 'sniffing', 'so', 'social', 'society', 'soda', 'sodacrisp', 'soft', 'softing', 'softness', 'sold', 'soldiers', 'soleche', 'solids', 'some', 'something', 'song', 'sons', 'sookie', 'soon', 'sorry', 'sort', 'soul', 'soup', 'soups', 'sour', 'south', 'soy', 'spa', 'space', 'spacety', 'spaghetti', 'spalding', 'spare', 'speaking', 'spealalonth', 'special', 'specially', 'specialpromation', 'specials', 'species', 'specific', 'specifically', 'specified', 'specify', 'spectal', 'spending', 'spice', 'spices', 'spicy', 'spills', 'spin', 'spinach', 'spirit', 'spoon', 'spray', 'spread', 'spretal', 'square', 'squawk', 'squid', 'squiggly', 'squirt', 'squirts', 'ssamorza', 'st', 'stack', 'stadium', 'staff', 'stairway', 'stak', 'stamp', 'stampes', 'stamps', 'stand', 'stands', 'star', 'staring', 'start', 'started', 'starting', 'starts', 'starwoode', 'state', 'states', 'station', 'status', 'stay', 'staying', 'stayle', 'steak', 'steaks', 'steam', 'steaming', 'stele', 'steppe', 'sterilization', 'stew', 'stick', 'sticker', 'sticky', 'stile', 'still', 'sting', 'stock', 'stomach', 'stomachd', 'stop', 'stopped', 'store', 'storer', 'stores', 'story', 'stove', 'strawberry', 'street', 'strei', 'streill', 'stress', 'stretch', 'string', 'strong', 'stuck', 'student', 'students', 'stuff', 'stumps', 'style', 'styles', 'suarevage', 'subject', 'subservation', 'substituting', 'subtropical', 'success', 'successful', 'succulent', 'such', 'sucks', 'suddenly', 'suffering', 'suffers', 'sugar', 'suit', 'suits', 'suki', 'summer', 'sunday', 'sundays', 'super', 'superfoot', 'superior', 'supersuming', 'supplies', 'supply', 'support', 'sure', 'surroundings', 'surrounds', 'survey', 'sushi', 'sushimi', 'suspipego', 'suzco', 'suzie', 'sweet', 'sweetness', 'sweets', 'sweiss', 'swindlers', 'swing', 'sword', 'syd', 'symply', 'synchronising', 'szko', 't3', 'table', 'tables', 'tabscoe', 'tag', 'tai', 'taihei', 'tail', 'tais', 'take', 'takeaway', 'takes', 'taking', 'takumli', 'talk', 'talking', 'tall', 'tamago', 'tantreyaki', 'tap', 'tapas', 'tareya', 'tarpaulins', 'tasks', 'taste', 'tasted', 'tasteful', 'tasteless', 'tastes', 'tastey', 'tasty', 'tb', 'tea', 'teabu', 'team', 'teams', 'teas', 'teat', 'teerazza', 'tel', 'telephone', 'tell', 'telland', 'tempura', 'ten', 'termal', 'terminal', 'ternal', 'terrace', 'terrazo', 'tess', 'test', 'tewpedgomaay', 'text', 'thai', 'thailand', 'than', 'thank', 'thanking', 'thanks', 'that', 'thb', 'the', 'theart', 'theera', 'their', 'them', 'then', 'there', 'thesco', 'these', 'they', 'thi', 'thick', 'thing', 'things', 'think', 'thinks', 'thirty', 'this', 'thorough', 'thoroughly', 'those', 'thought', 'thoughts', 'thousand', 'three', 'threesquere', 'through', 'throughout', 'thursday', 'thursdays', 'tian', 'ticket', 'tid', 'tigca', 'tiger', 'tight', 'till', 'time', 'times', 'ting', 'tings', 'tired', 'titties', 'tiyung', 'tk', 'tmb', 'to', 'toast', 'tobi', 'tobisashibar', 'tobizushihi', 'today', 'toffee', 'tofu', 'together', 'tokko', 'told', 'tom', 'tomato', 'tomom', 'tomorrow', 'tongue', 'too', 'took', 'top', 'topgag', 'tops', 'toriz', 'toro', 'toss', 'total', 'totaling', 'tots', 'tou', 'touch', 'touched', 'touching', 'tour', 'tourist', 'tower', 'town', 'towntown', 'toxie', 'toy', 'toyota', 'track', 'tracking', 'tract', 'trade', 'traded', 'traditional', 'train', 'translation', 'travel', 'tray', 'trays', 'treacherous', 'treat', 'tree', 'treesquere', 'trehill', 'tri', 'tried', 'trimizu', 'trio', 'triple', 'tru', 'true', 'truecoa', 'truly', 'trumov', 'truntan', 'truzig', 'try', 'tube', 'tue', 'tues', 'tuesday', 'tumbler', 'tun', 'tuna', 'tung', 'tungcutsu', 'tunish', 'turage', 'turian', 'turionifier', 'turn', 'turned', 'turns', 'turrien', 'tuskiji', 'tutard', 'tutsi', 'twenty', 'twg', 'two', 'types', 'typical', 'ubeer', 'ugh', 'uh', 'uji', 'ujimath', 'ultimate', 'umbrella', 'unagi', 'unbeknownst', 'under', 'uni', 'unicorn', 'unicorns', 'unique', 'uniquely', 'united', 'university', 'unknown', 'untestable', 'until', 'up', 'update', 'upset', 'upside', 'upsize', 'us', 'usal', 'use', 'used', 'users', 'using', 'usline', 'usual', 'usually', 'vacation', 'valid', 'value', 'vannai', 'variety', 'various', 'vasshi', 'vast', 'vdka', 've', 'vegetables', 'vegetarian', 'vellum', 'vendors', 'verdo', 'version', 'very', 'vet', 'via', 'vicinity', 'vietnam', 'vietnamese', 'vietnamn', 'view', 'village', 'vincent', 'vinx', 'vip', 'virish', 'vish', 'visit', 'vlp', 'vogue', 'volcano', 'voucher', 'wa', 'wad', 'waffle', 'waffles', 'wagid', 'wagiu', 'wagu', 'wahs', 'wait', 'waiting', 'walking', 'wall', 'wallet', 'wang', 'wangnai', 'want', 'wants', 'war', 'warm', 'warming', 'was', 'wash', 'waste', 'watch', 'watchtower', 'water', 'waters', 'waterways', 'watery', 'way', 'we', 'wear', 'weary', 'web', 'webse', 'wed', 'wednesday', 'week', 'weekday', 'weekend', 'welcome', 'welcomes', 'well', 'weng', 'went', 'were', 'western', 'what', 'when', 'where', 'whether', 'which', 'while', 'whipped', 'white', 'who', 'whole', 'whom', 'whore', 'why', 'wide', 'wifi', 'wild', 'will', 'win', 'wind', 'winds', 'windy', 'wine', 'wing', 'wings', 'winky', 'winning', 'wirgyu', 'wisdom', 'wise', 'wistars', 'with', 'within', 'without', 'witnesses', 'wizard', 'wlfi', 'won', 'wonderful', 'wongnai', 'wongneai', 'wood', 'woodd', 'wooden', 'woods', 'worcestershure', 'word', 'words', 'work', 'worker', 'workers', 'works', 'world', 'worry', 'worst', 'worth', 'would', 'wow', 'wrapped', 'writ', 'wrote', 'ww', 'www', 'wyrie', 'x1', 'xcv', 'xhjah', 'xin', 'xxl', 'xxxl', 'yagizoba', 'yakinkau', 'yakiu', 'yami', 'yas', 'yeah', 'year', 'years', 'yeas', 'yena', 'yes', 'yet', 'yo', 'york', 'you', 'young', 'younger', 'your', 'yourself', 'yu', 'yuan', 'yum', 'yumi', 'yummy', 'zab', 'zealand', 'zhutra', 'zineger', 'ziza', 'zone', 'zones', 'zpell', 'กล', 'การ', 'งด', 'งน', 'งแต', 'จน', 'จนกว', 'จะ', 'จำเป', 'ตอน', 'ตามท', 'ทำให', 'นthe', 'นอกจากน', 'บาท', 'มา', 'ยว', 'สาขา', 'สำa', 'สำdeluxe', 'สำหร', 'อน', 'อาท', 'อให', 'าน', 'เbring', 'เcome', 'เfive', 'เhere', 'เmatan', 'เonly', 'เthe', 'เช', 'เด', 'เพ', 'เพราะ', 'เม', 'เลย', 'เศษ', 'แdrop', 'แits', 'แล', 'โดย', 'โดยเฉพาะ', 'โดยไม', 'โต', 'ให', 'ได', 'ไป', 'ไม']\n",
      "[[3 0 0 ... 0 0 0]\n",
      " [0 0 0 ... 0 0 0]\n",
      " [1 0 0 ... 0 0 0]\n",
      " ...\n",
      " [0 0 0 ... 0 0 0]\n",
      " [0 0 0 ... 0 0 0]\n",
      " [0 0 0 ... 0 0 0]]\n"
     ]
    }
   ],
   "source": [
    "cv = CountVectorizer()\n",
    "features = cv.fit_transform(nmt_traindata.feature_en_nmt)\n",
    "print(cv.get_feature_names())\n",
    "print(features.toarray())\n"
   ]
  },
  {
   "cell_type": "code",
   "execution_count": 15,
   "metadata": {},
   "outputs": [],
   "source": [
    "cosine_sim = cosine_similarity(features)"
   ]
  },
  {
   "cell_type": "code",
   "execution_count": 16,
   "metadata": {},
   "outputs": [
    {
     "name": "stdout",
     "output_type": "stream",
     "text": [
      "The promotion “Live Canadian Lobster ” and 3 menus. Hong Kong’s hit - and - miss style at a special price Only 2,100 + 100, Hong Kong Fisherman store, building 8 empansity center, 833 5434 - 5,02 833 3637 37 39 service every day at 11: 00 - 22 p.m. Last year’s issue of the Watch Tower Bible and Tract Society of New York, U.S.A.\n",
      "------------\n",
      "(307, 0.47023329256650215)\n",
      "  It's a precipitation for the rainy season and the set of African tea.    สำหรับ   2 Ready for the price of $1.5 a.m., between 12: 00 p.m. and 7:00 p.m., the president of the Watch Tower Bible and Tract Society of New York, U.S.A., received a letter from the branch office of Jehovah’s Witnesses in Brooklyn, New York.  \n",
      "(1369, 0.42447635997800887)\n",
      "\"Tamago Spectal promotion at a special price and a 20% discount.\"   สำหรับ None of the other menus (except drinks and desserts) Plus Vet and Service Care.\n",
      "(286, 0.4086942641998112)\n",
      "The Bible says: “The word of God is alive and exerts power and is sharper than any two - edged sword and pierces even to the dividing of soul and spirit, and of joints and their marrow, and is able to discern thoughts and intentions of the heart. ” A lot.\n",
      "(1253, 0.40799086265205065)\n",
      "◯ For customers who don’t have time to eat at stores, out of the country or out of the country   เพื่อให้ Never miss the deliciousness of a service shop in front of a house เลย One / two, the price of retailed pigs, and two sets of dips, each with a set of $100, and a cup of tea, and a set of two dips. แล้ว - Seven days of refrigerators, seven days of cold, 1 bright month, and a day of Tuesday - Sunday, between 10 and 30 hours of fast delivery, we start at 30 miles per hour, and we get lost. # Inbox, or call 34451695 #. listy, 5008, q.Line: # track: Don, 37 to the stadium. #\n"
     ]
    }
   ],
   "source": [
    "# Test similarity\n",
    "promotion = 2\n",
    "\n",
    "similar_promotions = list(enumerate(cosine_sim[promotion]))\n",
    "\n",
    "sorted_similar_promotions = sorted(similar_promotions,key=lambda x:x[1],reverse=True)[1:]\n",
    "\n",
    "print(nmt_traindata['feature_en_nmt'][promotion])\n",
    "print(\"------------\")\n",
    "\n",
    "i=0\n",
    "for element in sorted_similar_promotions:\n",
    "    print(element)\n",
    "    print(nmt_traindata['feature_en_nmt'][element[0]])\n",
    "    i=i+1\n",
    "    if i>3:\n",
    "        break"
   ]
  }
 ],
 "metadata": {
  "kernelspec": {
   "display_name": "Python 3",
   "language": "python",
   "name": "python3"
  },
  "language_info": {
   "codemirror_mode": {
    "name": "ipython",
    "version": 3
   },
   "file_extension": ".py",
   "mimetype": "text/x-python",
   "name": "python",
   "nbconvert_exporter": "python",
   "pygments_lexer": "ipython3",
   "version": "3.8.5"
  }
 },
 "nbformat": 4,
 "nbformat_minor": 4
}
