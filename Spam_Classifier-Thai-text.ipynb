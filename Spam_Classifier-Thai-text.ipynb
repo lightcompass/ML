{
 "cells": [
  {
   "cell_type": "markdown",
   "metadata": {},
   "source": [
    "# Thai Text Spam Classifier based on SVM\n",
    "\n",
    "\n",
    "Given simple dataset that collect text with labelled\n",
    "\n",
    "The model workflow is first get text, then token word by pythainlp library after that use sklearn countvertorize to extract feature.\n",
    "\n",
    "This notebook consist of following section\n",
    "\n",
    "### 1. EDA\n",
    "look data shape, type, null value and importantly check imbalance of dataset.\n",
    "\n",
    "### 2. Training\n",
    "Perform training and GridSearchCV for best parameter\n",
    "\n",
    "### 3. Testing\n",
    "Useing accuracy as a measurement metric\n",
    "\n",
    "\n",
    "\n",
    "\n",
    "*Last update: 26 Mar 2021, Part J.*\n"
   ]
  },
  {
   "cell_type": "code",
   "execution_count": 1,
   "metadata": {},
   "outputs": [],
   "source": [
    "import pandas as pd\n",
    "import numpy as np\n",
    "import seaborn as sns\n",
    "import matplotlib.pyplot as plt\n",
    "%matplotlib inline\n",
    "pd.options.mode.chained_assignment = None  # default='warn'"
   ]
  },
  {
   "cell_type": "code",
   "execution_count": 2,
   "metadata": {},
   "outputs": [],
   "source": [
    "traindata = pd.read_csv('classifier_data/training_set.csv')\n",
    "testdata = pd.read_csv('classifier_data/testing_set.csv')"
   ]
  },
  {
   "cell_type": "markdown",
   "metadata": {},
   "source": [
    "## EDA"
   ]
  },
  {
   "cell_type": "code",
   "execution_count": 3,
   "metadata": {},
   "outputs": [
    {
     "data": {
      "text/plain": [
       "(2105, 3)"
      ]
     },
     "execution_count": 3,
     "metadata": {},
     "output_type": "execute_result"
    }
   ],
   "source": [
    "traindata.shape"
   ]
  },
  {
   "cell_type": "code",
   "execution_count": 4,
   "metadata": {},
   "outputs": [
    {
     "data": {
      "text/plain": [
       "(527, 2)"
      ]
     },
     "execution_count": 4,
     "metadata": {},
     "output_type": "execute_result"
    }
   ],
   "source": [
    "testdata.shape"
   ]
  },
  {
   "cell_type": "code",
   "execution_count": 5,
   "metadata": {},
   "outputs": [
    {
     "data": {
      "text/html": [
       "<div>\n",
       "<style scoped>\n",
       "    .dataframe tbody tr th:only-of-type {\n",
       "        vertical-align: middle;\n",
       "    }\n",
       "\n",
       "    .dataframe tbody tr th {\n",
       "        vertical-align: top;\n",
       "    }\n",
       "\n",
       "    .dataframe thead th {\n",
       "        text-align: right;\n",
       "    }\n",
       "</style>\n",
       "<table border=\"1\" class=\"dataframe\">\n",
       "  <thead>\n",
       "    <tr style=\"text-align: right;\">\n",
       "      <th></th>\n",
       "      <th>bad</th>\n",
       "    </tr>\n",
       "  </thead>\n",
       "  <tbody>\n",
       "    <tr>\n",
       "      <th>count</th>\n",
       "      <td>2105.000000</td>\n",
       "    </tr>\n",
       "    <tr>\n",
       "      <th>mean</th>\n",
       "      <td>0.495962</td>\n",
       "    </tr>\n",
       "    <tr>\n",
       "      <th>std</th>\n",
       "      <td>0.500102</td>\n",
       "    </tr>\n",
       "    <tr>\n",
       "      <th>min</th>\n",
       "      <td>0.000000</td>\n",
       "    </tr>\n",
       "    <tr>\n",
       "      <th>25%</th>\n",
       "      <td>0.000000</td>\n",
       "    </tr>\n",
       "    <tr>\n",
       "      <th>50%</th>\n",
       "      <td>0.000000</td>\n",
       "    </tr>\n",
       "    <tr>\n",
       "      <th>75%</th>\n",
       "      <td>1.000000</td>\n",
       "    </tr>\n",
       "    <tr>\n",
       "      <th>max</th>\n",
       "      <td>1.000000</td>\n",
       "    </tr>\n",
       "  </tbody>\n",
       "</table>\n",
       "</div>"
      ],
      "text/plain": [
       "               bad\n",
       "count  2105.000000\n",
       "mean      0.495962\n",
       "std       0.500102\n",
       "min       0.000000\n",
       "25%       0.000000\n",
       "50%       0.000000\n",
       "75%       1.000000\n",
       "max       1.000000"
      ]
     },
     "execution_count": 5,
     "metadata": {},
     "output_type": "execute_result"
    }
   ],
   "source": [
    "traindata.describe()"
   ]
  },
  {
   "cell_type": "code",
   "execution_count": 6,
   "metadata": {},
   "outputs": [
    {
     "data": {
      "text/html": [
       "<div>\n",
       "<style scoped>\n",
       "    .dataframe tbody tr th:only-of-type {\n",
       "        vertical-align: middle;\n",
       "    }\n",
       "\n",
       "    .dataframe tbody tr th {\n",
       "        vertical-align: top;\n",
       "    }\n",
       "\n",
       "    .dataframe thead th {\n",
       "        text-align: right;\n",
       "    }\n",
       "</style>\n",
       "<table border=\"1\" class=\"dataframe\">\n",
       "  <thead>\n",
       "    <tr style=\"text-align: right;\">\n",
       "      <th></th>\n",
       "      <th>PromotionId</th>\n",
       "      <th>description</th>\n",
       "      <th>bad</th>\n",
       "    </tr>\n",
       "  </thead>\n",
       "  <tbody>\n",
       "    <tr>\n",
       "      <th>0</th>\n",
       "      <td>1NWLAzBwCUadj2dLNYVrTib3XuTL0T</td>\n",
       "      <td>ซาลาปัง จัดใหญ่แทนใจคนที่คุณรัก</td>\n",
       "      <td>0</td>\n",
       "    </tr>\n",
       "    <tr>\n",
       "      <th>1</th>\n",
       "      <td>1NWLD3dp7tdq34WkgzQGLiPQM7dFC5</td>\n",
       "      <td>ทะเลทะลัก!! สุดยอดบุฟเฟ่ต์ทะเล ที่คุณไม่ควรพลา...</td>\n",
       "      <td>0</td>\n",
       "    </tr>\n",
       "    <tr>\n",
       "      <th>2</th>\n",
       "      <td>1NWLCHgnVeBb2TIup13b1RSOLOl3Cq</td>\n",
       "      <td>บัตรสมาชิก By อ.กุ้งเผาโคราช\\n\\n\\n\\nบัตรสมาชิก...</td>\n",
       "      <td>1</td>\n",
       "    </tr>\n",
       "    <tr>\n",
       "      <th>3</th>\n",
       "      <td>1NWLC9rEila7y7EyYKPp17zCMkjHs2</td>\n",
       "      <td>สาวกเพื่อสุขภาพครับ</td>\n",
       "      <td>1</td>\n",
       "    </tr>\n",
       "    <tr>\n",
       "      <th>4</th>\n",
       "      <td>1NWLCUe1qEBZtZEwInmjdBoce8XBF2</td>\n",
       "      <td>วันเกิด แจ้งพนักงาน รับฟรีฮันนีโทส1จานค่ะ\\n\\n\\n\\n</td>\n",
       "      <td>0</td>\n",
       "    </tr>\n",
       "  </tbody>\n",
       "</table>\n",
       "</div>"
      ],
      "text/plain": [
       "                      PromotionId  \\\n",
       "0  1NWLAzBwCUadj2dLNYVrTib3XuTL0T   \n",
       "1  1NWLD3dp7tdq34WkgzQGLiPQM7dFC5   \n",
       "2  1NWLCHgnVeBb2TIup13b1RSOLOl3Cq   \n",
       "3  1NWLC9rEila7y7EyYKPp17zCMkjHs2   \n",
       "4  1NWLCUe1qEBZtZEwInmjdBoce8XBF2   \n",
       "\n",
       "                                         description  bad  \n",
       "0                    ซาลาปัง จัดใหญ่แทนใจคนที่คุณรัก    0  \n",
       "1  ทะเลทะลัก!! สุดยอดบุฟเฟ่ต์ทะเล ที่คุณไม่ควรพลา...    0  \n",
       "2  บัตรสมาชิก By อ.กุ้งเผาโคราช\\n\\n\\n\\nบัตรสมาชิก...    1  \n",
       "3                                สาวกเพื่อสุขภาพครับ    1  \n",
       "4  วันเกิด แจ้งพนักงาน รับฟรีฮันนีโทส1จานค่ะ\\n\\n\\n\\n    0  "
      ]
     },
     "execution_count": 6,
     "metadata": {},
     "output_type": "execute_result"
    }
   ],
   "source": [
    "traindata.head()"
   ]
  },
  {
   "cell_type": "code",
   "execution_count": 7,
   "metadata": {},
   "outputs": [
    {
     "data": {
      "text/html": [
       "<div>\n",
       "<style scoped>\n",
       "    .dataframe tbody tr th:only-of-type {\n",
       "        vertical-align: middle;\n",
       "    }\n",
       "\n",
       "    .dataframe tbody tr th {\n",
       "        vertical-align: top;\n",
       "    }\n",
       "\n",
       "    .dataframe thead th {\n",
       "        text-align: right;\n",
       "    }\n",
       "</style>\n",
       "<table border=\"1\" class=\"dataframe\">\n",
       "  <thead>\n",
       "    <tr style=\"text-align: right;\">\n",
       "      <th></th>\n",
       "      <th>PromotionId</th>\n",
       "      <th>description</th>\n",
       "    </tr>\n",
       "  </thead>\n",
       "  <tbody>\n",
       "    <tr>\n",
       "      <th>0</th>\n",
       "      <td>1NWLA8yFGO4oZeRpAvdAY1JDJb6UtA</td>\n",
       "      <td>โปรโมชั่นพิเศษสำหรับ นักเรียน นักศึกษา เพียง แ...</td>\n",
       "    </tr>\n",
       "    <tr>\n",
       "      <th>1</th>\n",
       "      <td>1NWLAsDec3ZqmKAKk8cOgDmg5dVwuQ</td>\n",
       "      <td>ส่วนลด 10 บาททันที สำหรับลูกค้าในการซื้อแก้วแรก</td>\n",
       "    </tr>\n",
       "    <tr>\n",
       "      <th>2</th>\n",
       "      <td>1NWLAA6FbijUl5mqQ0Z2VTetfFlmRX</td>\n",
       "      <td>NaN</td>\n",
       "    </tr>\n",
       "    <tr>\n",
       "      <th>3</th>\n",
       "      <td>1NWLCX8ML1e2c5pkgf8oT1AVfAsFio</td>\n",
       "      <td>LINEMAN บริการส่งเค้กถึงมือท่าน</td>\n",
       "    </tr>\n",
       "    <tr>\n",
       "      <th>4</th>\n",
       "      <td>1NWLC0j3XRIwoXpTNXFkZVah0bnasd</td>\n",
       "      <td>2 วันสุดท้ายของเดือนนี้\\n\\n\\n30-31 สค 61</td>\n",
       "    </tr>\n",
       "  </tbody>\n",
       "</table>\n",
       "</div>"
      ],
      "text/plain": [
       "                      PromotionId  \\\n",
       "0  1NWLA8yFGO4oZeRpAvdAY1JDJb6UtA   \n",
       "1  1NWLAsDec3ZqmKAKk8cOgDmg5dVwuQ   \n",
       "2  1NWLAA6FbijUl5mqQ0Z2VTetfFlmRX   \n",
       "3  1NWLCX8ML1e2c5pkgf8oT1AVfAsFio   \n",
       "4  1NWLC0j3XRIwoXpTNXFkZVah0bnasd   \n",
       "\n",
       "                                         description  \n",
       "0  โปรโมชั่นพิเศษสำหรับ นักเรียน นักศึกษา เพียง แ...  \n",
       "1    ส่วนลด 10 บาททันที สำหรับลูกค้าในการซื้อแก้วแรก  \n",
       "2                                                NaN  \n",
       "3                    LINEMAN บริการส่งเค้กถึงมือท่าน  \n",
       "4           2 วันสุดท้ายของเดือนนี้\\n\\n\\n30-31 สค 61  "
      ]
     },
     "execution_count": 7,
     "metadata": {},
     "output_type": "execute_result"
    }
   ],
   "source": [
    "testdata.head()"
   ]
  },
  {
   "cell_type": "code",
   "execution_count": 8,
   "metadata": {},
   "outputs": [
    {
     "data": {
      "text/plain": [
       "PromotionId    object\n",
       "description    object\n",
       "bad             int64\n",
       "dtype: object"
      ]
     },
     "execution_count": 8,
     "metadata": {},
     "output_type": "execute_result"
    }
   ],
   "source": [
    "traindata.dtypes"
   ]
  },
  {
   "cell_type": "code",
   "execution_count": 9,
   "metadata": {},
   "outputs": [
    {
     "data": {
      "text/plain": [
       "PromotionId      0\n",
       "description    570\n",
       "bad              0\n",
       "dtype: int64"
      ]
     },
     "execution_count": 9,
     "metadata": {},
     "output_type": "execute_result"
    }
   ],
   "source": [
    "#  check null\n",
    "traindata.isnull().sum()\n",
    "\n",
    "## null value contain 1/4 of dataset, null also implied bad promotion so just leave as it is"
   ]
  },
  {
   "cell_type": "code",
   "execution_count": 10,
   "metadata": {},
   "outputs": [
    {
     "data": {
      "text/plain": [
       "0    1061\n",
       "1    1044\n",
       "Name: bad, dtype: int64"
      ]
     },
     "execution_count": 10,
     "metadata": {},
     "output_type": "execute_result"
    }
   ],
   "source": [
    "# Check Imbalance data !!! this is important\n",
    "traindata['bad'].value_counts()\n",
    "\n",
    "## look like dataset is balance that's cool!"
   ]
  },
  {
   "cell_type": "code",
   "execution_count": 11,
   "metadata": {},
   "outputs": [
    {
     "data": {
      "image/png": "[encoded data removed]",
      "text/plain": [
       "<Figure size 432x288 with 1 Axes>"
      ]
     },
     "metadata": {
      "needs_background": "light"
     },
     "output_type": "display_data"
    }
   ],
   "source": [
    "ax = sns.countplot(x=\"bad\", data=traindata)"
   ]
  },
  {
   "cell_type": "markdown",
   "metadata": {},
   "source": [
    "## Training"
   ]
  },
  {
   "cell_type": "code",
   "execution_count": 12,
   "metadata": {},
   "outputs": [],
   "source": [
    "from sklearn.feature_extraction.text import CountVectorizer\n",
    "from sklearn.naive_bayes import MultinomialNB, GaussianNB\n",
    "from sklearn import svm\n",
    "from sklearn.model_selection import GridSearchCV\n",
    "from pythainlp.tokenize import word_tokenize"
   ]
  },
  {
   "cell_type": "code",
   "execution_count": 13,
   "metadata": {},
   "outputs": [],
   "source": [
    "def wordToken(text):\n",
    "    return word_tokenize(text, engine=\"newmm\")"
   ]
  },
  {
   "cell_type": "code",
   "execution_count": 14,
   "metadata": {},
   "outputs": [],
   "source": [
    "# split data for train and test\n",
    "\n",
    "from sklearn.model_selection import train_test_split\n",
    "train, test = train_test_split(traindata, test_size =.2, random_state=1, stratify=traindata.bad)"
   ]
  },
  {
   "cell_type": "code",
   "execution_count": 15,
   "metadata": {},
   "outputs": [
    {
     "data": {
      "text/plain": [
       "(1684, 3)"
      ]
     },
     "execution_count": 15,
     "metadata": {},
     "output_type": "execute_result"
    }
   ],
   "source": [
    "train.shape"
   ]
  },
  {
   "cell_type": "code",
   "execution_count": 16,
   "metadata": {},
   "outputs": [
    {
     "data": {
      "text/html": [
       "<div>\n",
       "<style scoped>\n",
       "    .dataframe tbody tr th:only-of-type {\n",
       "        vertical-align: middle;\n",
       "    }\n",
       "\n",
       "    .dataframe tbody tr th {\n",
       "        vertical-align: top;\n",
       "    }\n",
       "\n",
       "    .dataframe thead th {\n",
       "        text-align: right;\n",
       "    }\n",
       "</style>\n",
       "<table border=\"1\" class=\"dataframe\">\n",
       "  <thead>\n",
       "    <tr style=\"text-align: right;\">\n",
       "      <th></th>\n",
       "      <th>PromotionId</th>\n",
       "      <th>description</th>\n",
       "      <th>bad</th>\n",
       "      <th>feature</th>\n",
       "    </tr>\n",
       "  </thead>\n",
       "  <tbody>\n",
       "    <tr>\n",
       "      <th>1205</th>\n",
       "      <td>1NWLBO3bwOUOB88Sr3GAo31nbptCWW</td>\n",
       "      <td>โปรโมชั่นเปิดร้าน วันนี้วันเดียว\\n\\n\\n\\n18 08 ...</td>\n",
       "      <td>0</td>\n",
       "      <td>โปรโมชั่นเปิดร้าน วันนี้วันเดียว    18 08 18  ...</td>\n",
       "    </tr>\n",
       "    <tr>\n",
       "      <th>73</th>\n",
       "      <td>1NWLBqv7ODub2WEc1kjDD4h5DEdal1</td>\n",
       "      <td>สมาชิก</td>\n",
       "      <td>0</td>\n",
       "      <td>สมาชิก</td>\n",
       "    </tr>\n",
       "    <tr>\n",
       "      <th>102</th>\n",
       "      <td>1NWLBqu73sYzuFXL4DJsq4gw6cxU10</td>\n",
       "      <td>โปรโมชั่น “Live Canadian Lobster”กับ 3 เมนูสุด...</td>\n",
       "      <td>0</td>\n",
       "      <td>โปรโมชั่น “Live Canadian Lobster”กับ 3 เมนูสุด...</td>\n",
       "    </tr>\n",
       "    <tr>\n",
       "      <th>659</th>\n",
       "      <td>1NWLCcUaQzZ0eeDpZ6Y68wpjSaynFg</td>\n",
       "      <td>เมนูเซ็ต ราคาพิเศษ พร้อมบริการส่งถึงที่</td>\n",
       "      <td>0</td>\n",
       "      <td>เมนูเซ็ต ราคาพิเศษ พร้อมบริการส่งถึงที่</td>\n",
       "    </tr>\n",
       "    <tr>\n",
       "      <th>435</th>\n",
       "      <td>1NWLAZSnaHLTkubTkprNOmdOcQT23l</td>\n",
       "      <td>NaN</td>\n",
       "      <td>1</td>\n",
       "      <td>NaN</td>\n",
       "    </tr>\n",
       "  </tbody>\n",
       "</table>\n",
       "</div>"
      ],
      "text/plain": [
       "                         PromotionId  \\\n",
       "1205  1NWLBO3bwOUOB88Sr3GAo31nbptCWW   \n",
       "73    1NWLBqv7ODub2WEc1kjDD4h5DEdal1   \n",
       "102   1NWLBqu73sYzuFXL4DJsq4gw6cxU10   \n",
       "659   1NWLCcUaQzZ0eeDpZ6Y68wpjSaynFg   \n",
       "435   1NWLAZSnaHLTkubTkprNOmdOcQT23l   \n",
       "\n",
       "                                            description  bad  \\\n",
       "1205  โปรโมชั่นเปิดร้าน วันนี้วันเดียว\\n\\n\\n\\n18 08 ...    0   \n",
       "73                                               สมาชิก    0   \n",
       "102   โปรโมชั่น “Live Canadian Lobster”กับ 3 เมนูสุด...    0   \n",
       "659             เมนูเซ็ต ราคาพิเศษ พร้อมบริการส่งถึงที่    0   \n",
       "435                                                 NaN    1   \n",
       "\n",
       "                                                feature  \n",
       "1205  โปรโมชั่นเปิดร้าน วันนี้วันเดียว    18 08 18  ...  \n",
       "73                                               สมาชิก  \n",
       "102   โปรโมชั่น “Live Canadian Lobster”กับ 3 เมนูสุด...  \n",
       "659             เมนูเซ็ต ราคาพิเศษ พร้อมบริการส่งถึงที่  \n",
       "435                                                 NaN  "
      ]
     },
     "execution_count": 16,
     "metadata": {},
     "output_type": "execute_result"
    }
   ],
   "source": [
    "# Clean data: strip new line, remove irrelevant symbol\n",
    "\n",
    "train['feature'] = train.description\n",
    "\n",
    "train['feature'] = train['feature'].replace('\\n',' ', regex=True)\n",
    "train['feature'] = train['feature'].replace('[^\\w\\s#@/:%.,_-]', '')\n",
    "\n",
    "train.head()"
   ]
  },
  {
   "cell_type": "code",
   "execution_count": 17,
   "metadata": {},
   "outputs": [
    {
     "data": {
      "text/html": [
       "<div>\n",
       "<style scoped>\n",
       "    .dataframe tbody tr th:only-of-type {\n",
       "        vertical-align: middle;\n",
       "    }\n",
       "\n",
       "    .dataframe tbody tr th {\n",
       "        vertical-align: top;\n",
       "    }\n",
       "\n",
       "    .dataframe thead th {\n",
       "        text-align: right;\n",
       "    }\n",
       "</style>\n",
       "<table border=\"1\" class=\"dataframe\">\n",
       "  <thead>\n",
       "    <tr style=\"text-align: right;\">\n",
       "      <th></th>\n",
       "      <th>PromotionId</th>\n",
       "      <th>description</th>\n",
       "      <th>bad</th>\n",
       "      <th>feature</th>\n",
       "    </tr>\n",
       "  </thead>\n",
       "  <tbody>\n",
       "    <tr>\n",
       "      <th>1205</th>\n",
       "      <td>1NWLBO3bwOUOB88Sr3GAo31nbptCWW</td>\n",
       "      <td>โปรโมชั่นเปิดร้าน วันนี้วันเดียว\\n\\n\\n\\n18 08 ...</td>\n",
       "      <td>0</td>\n",
       "      <td>[โปรโมชั่น, เปิดร้าน,  , วันนี้, วัน, เดียว,  ...</td>\n",
       "    </tr>\n",
       "    <tr>\n",
       "      <th>73</th>\n",
       "      <td>1NWLBqv7ODub2WEc1kjDD4h5DEdal1</td>\n",
       "      <td>สมาชิก</td>\n",
       "      <td>0</td>\n",
       "      <td>[สมาชิก]</td>\n",
       "    </tr>\n",
       "    <tr>\n",
       "      <th>102</th>\n",
       "      <td>1NWLBqu73sYzuFXL4DJsq4gw6cxU10</td>\n",
       "      <td>โปรโมชั่น “Live Canadian Lobster”กับ 3 เมนูสุด...</td>\n",
       "      <td>0</td>\n",
       "      <td>[โปรโมชั่น,  , “, Live,  , Canadian,  , Lobste...</td>\n",
       "    </tr>\n",
       "    <tr>\n",
       "      <th>659</th>\n",
       "      <td>1NWLCcUaQzZ0eeDpZ6Y68wpjSaynFg</td>\n",
       "      <td>เมนูเซ็ต ราคาพิเศษ พร้อมบริการส่งถึงที่</td>\n",
       "      <td>0</td>\n",
       "      <td>[เมนู, เซ็ต,  , ราคา, พิเศษ,  , พร้อม, บริการ,...</td>\n",
       "    </tr>\n",
       "    <tr>\n",
       "      <th>435</th>\n",
       "      <td>1NWLAZSnaHLTkubTkprNOmdOcQT23l</td>\n",
       "      <td>NaN</td>\n",
       "      <td>1</td>\n",
       "      <td>[]</td>\n",
       "    </tr>\n",
       "  </tbody>\n",
       "</table>\n",
       "</div>"
      ],
      "text/plain": [
       "                         PromotionId  \\\n",
       "1205  1NWLBO3bwOUOB88Sr3GAo31nbptCWW   \n",
       "73    1NWLBqv7ODub2WEc1kjDD4h5DEdal1   \n",
       "102   1NWLBqu73sYzuFXL4DJsq4gw6cxU10   \n",
       "659   1NWLCcUaQzZ0eeDpZ6Y68wpjSaynFg   \n",
       "435   1NWLAZSnaHLTkubTkprNOmdOcQT23l   \n",
       "\n",
       "                                            description  bad  \\\n",
       "1205  โปรโมชั่นเปิดร้าน วันนี้วันเดียว\\n\\n\\n\\n18 08 ...    0   \n",
       "73                                               สมาชิก    0   \n",
       "102   โปรโมชั่น “Live Canadian Lobster”กับ 3 เมนูสุด...    0   \n",
       "659             เมนูเซ็ต ราคาพิเศษ พร้อมบริการส่งถึงที่    0   \n",
       "435                                                 NaN    1   \n",
       "\n",
       "                                                feature  \n",
       "1205  [โปรโมชั่น, เปิดร้าน,  , วันนี้, วัน, เดียว,  ...  \n",
       "73                                             [สมาชิก]  \n",
       "102   [โปรโมชั่น,  , “, Live,  , Canadian,  , Lobste...  \n",
       "659   [เมนู, เซ็ต,  , ราคา, พิเศษ,  , พร้อม, บริการ,...  \n",
       "435                                                  []  "
      ]
     },
     "execution_count": 17,
     "metadata": {},
     "output_type": "execute_result"
    }
   ],
   "source": [
    "# token Thai word\n",
    "\n",
    "train['feature'] = train['feature'].apply(wordToken)\n",
    "\n",
    "train.head()"
   ]
  },
  {
   "cell_type": "code",
   "execution_count": 18,
   "metadata": {},
   "outputs": [
    {
     "name": "stdout",
     "output_type": "stream",
     "text": [
      "['00', '000', '001', '011', '0111', '015', '0176182', '0189200', '02', '022470123', '023224407', '0297', '03', '033', '043', '044', '052', '053', '053079', '054', '060', '061', '062', '0625304040', '0631408789', '064', '0649492665', '0649649363', '07', '076', '08', '080', '081', '082', '0820862388', '0828884237', '083', '084', '085', '086', '0866', '087', '0877891112', '0885555950', '089', '0894184489', '09', '090', '0925639939', '094', '0945169795', '095', '0968602285', '0974749900', '0979454242', '098', '099', '10', '100', '1000', '1010', '105', '1080', '109', '11', '110', '1111', '1145780235538933', '115', '119', '12', '120', '1200', '121', '122', '123', '1234', '124', '125', '127', '129', '1299', '13', '1300', '139', '14', '140', '1400', '1423313', '145', '148', '149', '15', '150', '156', '157', '159', '16', '160', '1600', '1650', '168', '169', '17', '170', '1700', '171', '175', '179', '1790', '18', '180', '1800', '1810', '183', '188', '189', '19', '190', '1900', '1920', '195', '196', '199', '20', '200', '201', '2011', '2013', '2018', '203', '2038', '20818', '209', '21', '210', '216', '219', '22', '220', '225', '228', '229', '23', '230', '239', '24', '240', '242', '248', '249', '2499', '25', '250', '2500', '2561', '2562', '256629', '259', '260', '2656', '2679', '269', '27', '270', '275', '276', '278', '28', '280', '283', '285', '29', '290', '299', '30', '300', '31', '310', '312', '319', '320', '3243588', '33', '333', '340', '347', '348', '349', '35', '350', '352577', '3563', '358', '3695', '37', '370', '3700', '378', '379', '385', '39', '390', '3929178', '399', '40', '400', '4002254', '4040', '4052856', '414', '42', '4207818', '4331812', '4343', '442', '449', '45', '450', '4567', '459', '465', '4732383', '4777', '48', '480', '483', '485', '486', '49', '490', '499', '50', '500', '5008', '507', '509', '510', '511', '5155959', '516', '530', '536', '54', '540', '5434', '5437', '545', '549', '55', '550', '555', '570', '5889', '59', '590', '596', '599', '60', '600', '6006377', '6074323', '61', '612', '618', '62', '6240', '6289', '632', '641', '6414', '642', '647', '6480', '65', '650', '654', '656', '659', '66', '6602484', '663', '6636', '666', '6736', '675', '68', '688518878174139', '69', '690', '695', '699', '70', '700', '7034123', '707', '72', '720', '730', '7315', '7330', '7339', '7461424', '75', '750', '759', '76', '76608885', '769', '777', '7771', '7844', '789', '79', '790', '7949', '799', '80', '800', '8000', '803087', '81', '810', '8231', '833', '839', '85', '850', '855', '8646', '8746', '875', '88', '888', '8880', '89', '890', '899', '90', '900', '9000', '9099874', '92', '9262885', '9347723', '939', '9414', '95', '950', '9532', '9635', '969', '9692', '982', '99', '990', '9909', '991', '9933', '9944', '9949', '999', '_____________________', 'able', 'absolut', 'acai', 'account', 'actual', 'add', 'after', 'afternoon', 'afterwork', 'air', 'ais', 'akami', 'all', 'aloo', 'alorathailand', 'am', 'ambience', 'an', 'anchovy', 'and', 'android', 'antica', 'antiqueline', 'any', 'app', 'apple', 'applevivid', 'appwar', 'are', 'armitycoffee', 'aroichiangmai', 'around', 'art', 'artiaseafood', 'articles', 'artisanal', 'asahi', 'asianfood', 'asoke', 'at', 'atlantic', 'atmosphere', 'aug', 'august', 'australian', 'authentic', 'available', 'award', 'away', 'ayutthaya', 'baansaengchan', 'baba', 'bacon', 'badshahi', 'bag', 'baht', 'baiyoke', 'baiyokecatering', 'bakery', 'ball', 'banana', 'bananadiary', 'bangkae', 'bangkok', 'bangna', 'bank', 'banking', 'bankokubuffet', 'bao', 'bar', 'barista', 'bbl', 'bbq', 'bbybanane', 'bc', 'be', 'bean', 'beef', 'beer', 'beerontap', 'beet', 'bettoli', 'beyond', 'beyondcafe', 'bigbag', 'biker', 'bird', 'birthday', 'biryana', 'bit', 'bites', 'bkk', 'black', 'blackpeppersauce', 'blast', 'blend', 'bloody', 'blu', 'blue', 'bnk', 'bocconcini', 'booked', 'booking', 'bottle', 'bowl', 'box', 'breviewudon', 'brew', 'bright', 'bringing', 'brings', 'broccoli', 'brown', 'brunch', 'bts', 'buatong', 'buddy', 'budweiser', 'buffet', 'buns', 'burger', 'burgers', 'burrata', 'business', 'butter', 'buy', 'by', 'bye', 'cabin', 'cafe', 'cafehopping', 'cafehoppingbkk', 'cake', 'call', 'camera', 'can', 'canadian', 'cantonese', 'capogbkk', 'capsicum', 'car', 'caramel', 'card', 'carefully', 'carnival', 'carte', 'casa', 'casual', 'catching', 'catering', 'ceiling', 'celeb', 'celebrate', 'central', 'ceylon', 'chaiyaphum', 'champagne', 'changwattana', 'charas', 'charge', 'check', 'checkin', 'cheese', 'cheeses', 'cheesy', 'chef', 'chefs', 'cherry', 'chicken', 'chillax', 'china', 'chinese', 'chips', 'chirashi', 'chocolate', 'cielo', 'cieloskybar', 'citibank', 'city', 'class', 'classic', 'click', 'co', 'cocktail', 'cocktails', 'cocoa', 'code', 'coffee', 'coffeebreak', 'coffeeshop', 'coffeewithatwist', 'coffeeworldth', 'colablaze', 'cold', 'com', 'comment', 'compassskyviewhotel', 'compliment', 'comt', 'concorde', 'contact', 'cookie', 'cookies', 'cooking', 'copper', 'copperbuffet', 'coupon', 'cow', 'cr', 'crab', 'craft', 'craftbeer', 'crafted', 'cravings', 'cream', 'creamy', 'created', 'creations', 'creatively', 'credit', 'crepe', 'crisps', 'crispy', 'crunchy', 'crystal', 'ct', 'cub', 'cubhouse', 'cuisine', 'cuisines', 'culinary', 'cup', 'cupcake', 'cuts', 'daily', 'darjeeling', 'dark', 'day', 'days', 'de', 'deal', 'delicacies', 'delicious', 'delightful', 'delivery', 'deluxe', 'dessert', 'details', 'dhdggd', 'di', 'dim', 'din', 'dining', 'dinner', 'dinners', 'discounnt', 'discount', 'discover', 'dishes', 'dividedarkchoc', 'diy', 'doi', 'don', 'donburi', 'donut', 'double', 'dp', 'draft', 'dragon', 'dream', 'dressing', 'drink', 'drinks', 'drip', 'drive', 'dtac', 'dtacreward', 'duo', 'dxtah', 'early', 'easy', 'eat', 'eatigo', 'eating', 'eatranger', 'ebi', 'eclectic', 'eiffel', 'elegant', 'elevated', 'eleven', 'emporium', 'emquartier', 'emup', 'en', 'engawa', 'enjoy', 'escapexdandelioncafe', 'every', 'everyday', 'exciting', 'excluding', 'exclusive', 'exclusively', 'exclusivo', 'executive', 'experienced', 'expert', 'express', 'ext', 'eye', 'facebook', 'factory', 'fan', 'fanpage', 'fare', 'favola', 'fb', 'feature', 'festival', 'figs', 'fillet', 'find', 'fine', 'finest', 'finnnn', 'first', 'fish', 'fitness', 'fizzy', 'flagship', 'flavors', 'flavourcombinations', 'floor', 'flow', 'foie', 'follow', 'fondant', 'food', 'for', 'forlow', 'four', 'francesco', 'free', 'freeeee', 'french', 'fresh', 'freshest', 'freshly', 'friday', 'fried', 'friends', 'from', 'fruit', 'fruittose', 'fruitty', 'fudge', 'fung', 'future', 'fuzio', 'fuziocafe', 'fuziocafebangkok', 'galaxy', 'garaku', 'garlic', 'gatherings', 'get', 'giant', 'gift', 'gl', 'glass', 'gm', 'go', 'gold', 'goo', 'good', 'google', 'gooroochiangmai', 'gouda', 'gras', 'great', 'green', 'greenchef', 'greyhound', 'greyhoundcoffee', 'greyhoundcoffeeoriginal', 'grill', 'grilled', 'ground', 'gym', 'hanu', 'happy', 'hard', 'hashtag', 'hastag', 'hatyai', 'have', 'hdjjdiwjus', 'healthy', 'heart', 'helix', 'hello', 'heogaarden', 'hershey', 'hibachi', 'high', 'highball', 'himalaian', 'himawari', 'hin', 'hipsterbiker', 'hlngtaeteiymsurat', 'hmmmmmmm', 'hoe', 'hokkigai', 'home', 'homemade', 'hoshi', 'hot', 'hour', 'hours', 'house', 'hrs', 'http', 'https', 'hua', 'hungryfatguy', 'ice', 'iced', 'icy', 'id', 'if', 'ig', 'immediately', 'in', 'inbox', 'including', 'inclusive', 'indian', 'information', 'ingredients', 'inspired', 'instagram', 'is', 'italian', 'italianfood', 'items', 'ix', 'japan', 'japanese', 'javenue', 'jds', 'jed', 'jjmla', 'johnniehighball', 'juice', 'july', 'just', 'jvjqqxrjnvm', 'ka', 'kaiseki', 'kaizen', 'kakigori', 'kano', 'kerry', 'kfc', 'kg', 'kham', 'kid', 'kim', 'kimukatsu', 'kind', 'king', 'kitchen', 'knmv', 'kok', 'konmunkung', 'koonkum', 'koonkumbeeffactory', 'krusuteam', 'ktc', 'la', 'label', 'lager', 'lagoon', 'lam', 'lao', 'last', 'latest', 'latte', 'le', 'leaf', 'legs', 'lemon', 'let', 'letao', 'light', 'like', 'liked', 'line', 'lineman', 'link', 'liquor', 'live', 'lively', 'lobster', 'location', 'long', 'lopbaan', 'lovely', 'lover', 'low', 'lr', 'luna', 'lunch', 'lunchasian', 'lunches', 'lunchset', 'luxury', 'ly', 'mac', 'made', 'maguro', 'mahachai', 'mall', 'man', 'mania', 'manu', 'map', 'maps', 'margherita', 'maria', 'market', 'markets', 'mary', 'masala', 'massilia', 'matar', 'mcg', 'me', 'meat', 'meeting', 'mega', 'mellow', 'member', 'menam', 'menu', 'meridien', 'mhala', 'milk', 'milky', 'mini', 'missing', 'mitraphap', 'mixed', 'mk', 'ml', 'mobile', 'mocha', 'mocktails', 'mokapot', 'momeatfree', 'mon', 'monday', 'money', 'mong', 'monster', 'month', 'more', 'mother', 'mount', 'mouthwatering', 'mrt', 'msy', 'muanfanbuffet', 'muay', 'much', 'muji', 'mum', 'murg', 'mussels', 'must', 'mutton', 'myc', 'nakhon', 'nakhonsawan', 'nakhonsi', 'nd', 'negi', 'nen', 'net', 'new', 'next', 'nice', 'night', 'nio', 'nitro', 'nitrocoffee', 'no', 'nobicha', 'nobichathaiofficial', 'noir', 'nonghoi', 'nont', 'noodle', 'now', 'nwlcroywkdnx', 'of', 'off', 'offer', 'offers', 'omakase', 'on', 'one', 'onetreehill', 'onion', 'online', 'only', 'open', 'opening', 'opposite', 'or', 'order', 'origano', 'original', 'ornbnk', 'orrtiu', 'ortiz', 'otago', 'other', 'our', 'out', 'over', 'oysters', 'ozen', 'pacific', 'pack', 'padaso', 'paech', 'page', 'pale', 'panacotta', 'paneer', 'panorama', 'panoramic', 'papa', 'park', 'parking', 'party', 'pasta', 'pastry', 'pattaya', 'pay', 'pcs', 'pearl', 'ped', 'peper', 'pepper', 'pepsi', 'per', 'person', 'pesto', 'phitsanulok', 'phong', 'photo', 'phrom', 'phungtosteak', 'piece', 'ping', 'pinklao', 'pinot', 'pint', 'pizza', 'pizzamassiliabkk', 'pizzamassiliasukhumvit', 'pizzanaban', 'place', 'platter', 'plaza', 'please', 'pls', 'plus', 'plza', 'pm', 'pn', 'point', 'poonpoon', 'popcorn', 'porcini', 'port', 'post', 'pprincess', 'pr', 'prawns', 'premium', 'preparation', 'prepared', 'presentation', 'pretzel', 'price', 'privileges', 'project', 'promenade', 'promo', 'promotion', 'promotions', 'promtion', 'ptt', 'public', 'puff', 'qr', 'quartier', 'quick', 'raanlopbaan', 'rabbit', 'radler', 'rakathaifusionfood', 'rama', 'ramada', 'ramintra', 'rangsit', 'ratchasima', 'ratilannachiangmai', 'ratthanathibeth', 'rd', 'real', 'recipe', 'recipes', 'recommended', 'red', 'ref', 'refreshing', 'regular', 'relaxing', 'reservation', 'reservations', 'resort', 'restaurant', 'review', 'reviewesan', 'reviewudon', 'reward', 'rib', 'ribbit', 'ricesara', 'riesling', 'river', 'riverside', 'roar', 'roasted', 'roberto', 'rock', 'rocket', 'roll', 'roof', 'room', 'rosa', 'royal', 'rvwpyb', 'saap', 'salad', 'sale', 'salmon', 'salt', 'salted', 'same', 'samsung', 'samurai', 'sashimi', 'sat', 'satisfy', 'saturday', 'sauce', 'save', 'savour', 'scamorza', 'scb', 'scones', 'scoop', 'scope', 'sea', 'seafood', 'seafresh', 'season', 'selected', 'selection', 'selections', 'seller', 'senghong', 'senior', 'senses', 'seoul', 'september', 'sergio', 'service', 'serving', 'set', 'shabu', 'shabuaoodramintra', 'share', 'shere', 'shirao', 'shizen', 'shop', 'show', 'showcase', 'shrimp', 'shucked', 'siam', 'sicily', 'side', 'signature', 'simple', 'simply', 'singha', 'sirlion', 'size', 'sized', 'skewers', 'skills', 'smoothie', 'smuybh', 'snack', 'snow', 'society', 'soda', 'sodacrisp', 'soft', 'some', 'song', 'soplumup', 'soup', 'sous', 'space', 'special', 'specialty', 'spicy', 'spring', 'spritelime', 'square', 'stamina', 'starting', 'station', 'stations', 'steak', 'steakcoach', 'steamed', 'stock', 'store', 'stracchino', 'strawberry', 'street', 'style', 'sugar', 'suited', 'sukhumvit', 'sum', 'sumptuous', 'sun', 'sunday', 'super', 'supper', 'suratthani', 'sushi', 'sweat', 'sweet', 'swiss', 'tabasco', 'tag', 'tai', 'taihei', 'tail', 'take', 'takumi', 'tamago', 'tap', 'tapas', 'tart', 'taste', 'tea', 'teas', 'tel', 'tempt', 'tempura', 'terminal', 'terrazza', 'terrazzo', 'th', 'thai', 'thailand', 'thamarat', 'thapra', 'thb', 'the', 'theartofsushipinklao', 'thebestgrilled', 'their', 'therealpizzabkk', 'therealpizzaservice', 'this', 'three', 'through', 'thru', 'ti', 'tian', 'tid', 'tiew', 'tiewpedgomuay', 'tikki', 'till', 'time', 'timings', 'tiramisu', 'tmb', 'to', 'toast', 'tobi', 'tobisushi', 'tobisushibar', 'toffee', 'together', 'tomato', 'tood', 'top', 'topping', 'tote', 'townintown', 'toyota', 'tqpnaweyn', 'tree', 'treesquare', 'trio', 'triple', 'true', 'try', 'tsukiji', 'tue', 'tues', 'tuesday', 'tumbler', 'tuna', 'twg', 'ubon', 'udonthani', 'ufpx', 'unagi', 'under', 'uni', 'unique', 'up', 'update', 'upsize', 'us', 'usaul', 'users', 'using', 'uwfvdq', 'variety', 'vat', 'veggie', 'videos', 'view', 'village', 'vip', 'vodka', 'volcano', 'voucher', 'waffle', 'wagyu', 'waiting', 'walk', 'wall', 'wallet', 'walnuts', 'wash', 'watch', 'watersidekaraoke', 'we', 'website', 'wed', 'week', 'weekday', 'weng', 'western', 'when', 'where', 'whisgars', 'whitedaypatisserie', 'wifi', 'will', 'wine', 'winery', 'wines', 'winning', 'with', 'wizard', 'wongnai', 'wood', 'worcestershire', 'work', 'world', 'worth', 'woven', 'wow', 'wsf', 'www', 'xin', 'xolxrqq', 'xxl', 'xxxl', 'yakiniku', 'yod', 'you', 'your', 'yourself', 'yumi', 'yummy', 'zealand', 'zpell', 'กก', 'กกะป', 'กกาด', 'กข', 'กค', 'กคน', 'กคร', 'กงาน', 'กงานบร', 'กงานเส', 'กช', 'กชน', 'กซ', 'กฐาน', 'กด', 'กต', 'กถ', 'กท', 'กทม', 'กทาย', 'กบ', 'กปาก', 'กพ', 'กม', 'กย', 'กร', 'กรกฎาคม', 'กรณ', 'กรด', 'กรยานยนต', 'กรรมว', 'กรรเช', 'กรอก', 'กรอบ', 'กระ', 'กระด', 'กระทะ', 'กระบอก', 'กระป', 'กระหน', 'กระเจ', 'กระเท', 'กระเป', 'กระเพาะปลา', 'กระแส', 'กระโดด', 'กราม', 'กล', 'กลด', 'กลม', 'กลมกล', 'กลาง', 'กลางกร', 'กลางว', 'กลางเม', 'กลาย', 'กว', 'กวน', 'กวย', 'กวางต', 'กศ', 'กษ', 'กษา', 'กส', 'กสด', 'กอ', 'กองท', 'กอย', 'กฮวย', 'กะ', 'กะท', 'กะทะ', 'กะป', 'กะปอม', 'กะพง', 'กะลา', 'กะหร', 'กะหล', 'กะเพรา', 'กา', 'กาก', 'กากหม', 'กายน', 'การ', 'การถ', 'การปร', 'การรอคอย', 'การส', 'การแข', 'กาแฟ', 'กาแฟร', 'กาแฟสด', 'กาแฟเย', 'กำน', 'กำล', 'กำหนด', 'กำแพง', 'กำไร', 'กเกอร', 'กเคล', 'กเด', 'กเบ', 'กเร', 'กเวลา', 'กแล', 'กใจ', 'กไทย', 'กๆ', 'ขน', 'ขนม', 'ขนมจ', 'ขนมป', 'ขนมหวาน', 'ขนมเข', 'ขนมเค', 'ขนมเท', 'ขนมเบ', 'ขนาด', 'ขนาดเล', 'ขนาดใหญ', 'ขบวน', 'ขภาพ', 'ขยาย', 'ขยายเวลา', 'ขวด', 'ขส', 'ขอ', 'ของ', 'ของก', 'ของขว', 'ของด', 'ของฝาก', 'ของรางว', 'ของหวาน', 'ของแถม', 'ของแท', 'ขอบ', 'ขอบค', 'ขอบพระค', 'ขออภ', 'ขา', 'ขาง', 'ขาดต', 'ขาม', 'ขาย', 'ขายด', 'ขายหน', 'ขาว', 'คคล', 'คชอป', 'คน', 'คนตาย', 'คนร', 'คนละ', 'คนอ', 'คนเด', 'คนใน', 'คนไทย', 'คบ', 'คร', 'ครก', 'ครบ', 'ครบรอบ', 'ครอบคร', 'ครา', 'คล', 'คลอง', 'คละ', 'คลาส', 'ควงแขน', 'ควบค', 'ควร', 'ควรจะ', 'ควอ', 'ความ', 'ความค', 'ความจร', 'ความน', 'ความประท', 'ความพอใจ', 'ความม', 'ความร', 'ความส', 'ความสด', 'ความสดช', 'ความสนใจ', 'ความสะดวก', 'ความสะอาด', 'ความสำค', 'ความหวาน', 'คส', 'คอ', 'คอก', 'คอน', 'คอนเวนช', 'คอนโด', 'คอปเปอร', 'คอม', 'คอมเมนต', 'คอร', 'คอแข', 'คะ', 'คะน', 'คะแนน', 'คา', 'คาง', 'คาป', 'คาร', 'คาราเมล', 'คาราโอเกะ', 'คาเฟ', 'คาโก', 'คำ', 'คำขอบค', 'คำเร', 'คำแนะนำ', 'คำโต', 'คำใต', 'ฅน', 'งก', 'งกร', 'งกระดาน', 'งกฤษ', 'งกล', 'งกว', 'งกาง', 'งการ', 'งข', 'งขยา', 'งค', 'งคม', 'งคาร', 'งง', 'งจ', 'งจอง', 'งจากท', 'งช', 'งชาต', 'งซ', 'งด', 'งต', 'งตารอ', 'งท', 'งทอด', 'งทำ', 'งน', 'งป', 'งม', 'งรส', 'งว', 'งศร', 'งส', 'งสด', 'งสรรค', 'งสว', 'งห', 'งหมด', 'งหว', 'งหา', 'งหาคม', 'งอ', 'งอบ', 'งออก', 'งอาหาร', 'งา', 'งาน', 'งานทำบ', 'งานเล', 'งาม', 'งเด', 'งเทพ', 'งเทพฯ', 'งเม', 'งเล', 'งเศส', 'งเสร', 'งเห', 'งแต', 'งแรก', 'งแวดล', 'งโชค', 'งใจ', 'งใหญ', 'งไคล', 'งไง', 'งไทย', 'งๆ', 'จกรรม', 'จจ', 'จน', 'จนกว', 'จนถ', 'จบ', 'จพระนางเจ', 'จร', 'จอ', 'จอง', 'จอด', 'จอดรถ', 'จะ', 'จะแจ', 'จา', 'จาก', 'จากน', 'จาน', 'จำก', 'จำนวน', 'จำนวนมาก', 'จำหน', 'จำเป', 'ฉลอง', 'ฉลาม', 'ฉะ', 'ชด', 'ชดเชย', 'ชน', 'ชม', 'ชมพ', 'ชย', 'ชล', 'ชลบ', 'ชว', 'ชวน', 'ชอค', 'ชอบ', 'ชะ', 'ชา', 'ชาด', 'ชาต', 'ชาบ', 'ชาม', 'ชาร', 'ชาว', 'ชาวบ', 'ชาเข', 'ชำระ', 'ชำระเง', 'ซซ', 'ซอ', 'ซอน', 'ซอย', 'ซอส', 'ซะ', 'ซา', 'ซาก', 'ซาบะ', 'ซาลาเปา', 'ซาว', 'ซำ', 'ญช', 'ญญา', 'ญพ', 'ญวณ', 'ญวน', 'ญแจ', 'ฐว', 'ณฑ', 'ณพ', 'ณภาพ', 'ณา', 'ณแม', 'ดกะเพรา', 'ดการ', 'ดง', 'ดงาน', 'ดจ', 'ดจำ', 'ดฉาก', 'ดด', 'ดดด', 'ดดดด', 'ดดวง', 'ดต', 'ดตาม', 'ดถ', 'ดท', 'ดทำ', 'ดนตร', 'ดฝน', 'ดพ', 'ดม', 'ดยอด', 'ดร', 'ดรธาน', 'ดราคา', 'ดราชการ', 'ดล', 'ดลม', 'ดวง', 'ดส', 'ดสรร', 'ดหง', 'ดหน', 'ดหว', 'ดอ', 'ดอก', 'ดอกมะล', 'ดอง', 'ดอน', 'ดอนเม', 'ดอย', 'ดอลล', 'ดาว', 'ดาวกระจาย', 'ดำ', 'ดเง', 'ดเจน', 'ดเทอม', 'ดเพล', 'ดเล', 'ดใจ', 'ดไทย', 'ดไป', 'ตก', 'ตกลง', 'ตกแต', 'ตค', 'ตซ', 'ตต', 'ตตาคาร', 'ตถ', 'ตบ', 'ตบท', 'ตภ', 'ตย', 'ตร', 'ตรง', 'ตรงข', 'ตรประจำต', 'ตรประชาชน', 'ตรวจสอบ', 'ตรสมาช', 'ตรา', 'ตรเครด', 'ตฤกษ', 'ตลอด', 'ตลอดท', 'ตลอดป', 'ตลอดว', 'ตละ', 'ตลาด', 'ตลาดน', 'ตว', 'ตส', 'ตอน', 'ตอนน', 'ตอนบ', 'ตอนเย', 'ตอบคำถาม', 'ตอบร', 'ตะ', 'ตะว', 'ตะโก', 'ตะไคร', 'ตา', 'ตาม', 'ตามท', 'ตามปกต', 'ตามมา', 'ตามรอย', 'ตามเง', 'ตามแต', 'ตามแบบฉบ', 'ตามใจ', 'ตามใจชอบ', 'ตาล', 'ตาเล', 'ตำ', 'ตำนาน', 'ตเตอร', 'ถนน', 'ถนนสายหล', 'ถล', 'ถวายพระพร', 'ถา', 'ถาด', 'ถาม', 'ทงค', 'ทต', 'ทธ', 'ทมะ', 'ทยา', 'ทยาน', 'ทร', 'ทรงเคร', 'ทรปราการ', 'ทรสงคราม', 'ทราบ', 'ทว', 'ทหาร', 'ทอง', 'ทองคำ', 'ทอด', 'ทอดม', 'ทฯ', 'ทะ', 'ทะล', 'ทะเล', 'ทา', 'ทาง', 'ทางการ', 'ทางเข', 'ทาน', 'ทานอาหาร', 'ทาว', 'ทาวน', 'ทำ', 'ทำการ', 'ทำความร', 'ทำงาน', 'ทำนาย', 'ทำบ', 'ทำอาหาร', 'ทำให', 'ทำได', 'ทำไม', 'ธค', 'ธง', 'ธน', 'ธนบ', 'ธนาคาร', 'ธยา', 'ธรรม', 'ธรรมชาต', 'ธรรมดา', 'ธรรมราช', 'ธา', 'ธาน', 'ธารณะ', 'นก', 'นค', 'นคร', 'นครราชส', 'นครศร', 'นคล', 'นชอบ', 'นด', 'นต', 'นตก', 'นตาโฟ', 'นตำร', 'นท', 'นทร', 'นทรา', 'นทาง', 'นทางการ', 'นธ', 'นน', 'นบ', 'นป', 'นประจำ', 'นปลากราย', 'นพ', 'นพระราชสมภพ', 'นม', 'นมสด', 'นมะ', 'นมเบ', 'นย', 'นยา', 'นยายน', 'นล', 'นวม', 'นวล', 'นวาคม', 'นวาย', 'นส', 'นสด', 'นสตาแกรม', 'นสำค', 'นหมดอาย', 'นหย', 'นหอม', 'นหา', 'นอ', 'นอก', 'นอกจาก', 'นอกจากน', 'นอกเหน', 'นอน', 'นอบ', 'นอร', 'นออก', 'นอาท', 'นะ', 'นะค', 'นะคะ', 'นะจ', 'นา', 'นาคม', 'นางรอง', 'นาด', 'นาถ', 'นาท', 'นาน', 'นานา', 'นานาชาต', 'นาม', 'นาย', 'นาว', 'นำ', 'นำมา', 'นำเข', 'นำเสนอ', 'นเก', 'นเซส', 'นเด', 'นเดย', 'นเตอร', 'นเนอร', 'นเพ', 'นเย', 'นเล', 'นเส', 'นเอง', 'นแม', 'นโตก', 'นใจ', 'นใหญ', 'นได', 'นไป', 'นไพร', 'นๆ', 'บก', 'บค', 'บจอง', 'บด', 'บท', 'บน', 'บนานาชาต', 'บบ', 'บปร', 'บประทาน', 'บฟเฟต', 'บภาระ', 'บมา', 'บร', 'บรรยากาศ', 'บรรยาย', 'บรอง', 'บรา', 'บล', 'บวก', 'บอ', 'บอก', 'บอกต', 'บอบ', 'บอล', 'บะ', 'บะหม', 'บา', 'บาง', 'บางกอก', 'บางนา', 'บาท', 'บาบ', 'บาย', 'บาร', 'บาหล', 'บเง', 'บเบ', 'บแป', 'บใจ', 'บไซต', 'ปกต', 'ปชช', 'ปซ', 'ปดาห', 'ปตท', 'ปถ', 'ปท', 'ปป', 'ปปะรด', 'ปภาพ', 'ปร', 'ปรกต', 'ประกอบด', 'ประกาศ', 'ประจำ', 'ประจำว', 'ประจำเด', 'ประช', 'ประชา', 'ประชาส', 'ประต', 'ประท', 'ประมาณ', 'ประส', 'ประสบการณ', 'ประหย', 'ประเทศ', 'ประเภท', 'ประโยชน', 'ปราณ', 'ปล', 'ปลา', 'ปลาก', 'ปลาช', 'ปลาด', 'ปลาท', 'ปลายล', 'ปลาร', 'ปลาหม', 'ปลาเห', 'ปลาไหล', 'ปอ', 'ปอง', 'ปอนด', 'ปะ', 'ปา', 'ปาก', 'ปากซอย', 'ปาย', 'ปาร', 'ปาส', 'ปเป', 'ปเปอร', 'ปแบบ', 'ผง', 'ผม', 'ผล', 'ผลไม', 'ผสม', 'ผสมผสาน', 'ผสาน', 'ฝน', 'ฝนตก', 'ฝร', 'ฝอยทอง', 'ฝาก', 'พง', 'พงษ', 'พท', 'พน', 'พบ', 'พบก', 'พยากร', 'พยากรธรรมชาต', 'พร', 'พระ', 'พระจ', 'พระบรมราช', 'พระยา', 'พระราม', 'พราน', 'พฤศจ', 'พฤษภาคม', 'พฤห', 'พล', 'พละ', 'พลาซ', 'พลาด', 'พลาสต', 'พวกเรา', 'พวง', 'พวงก', 'พวงมาล', 'พอ', 'พา', 'พาณ', 'พาย', 'พาร', 'พาส', 'พาสต', 'พาเหรด', 'พาโนรามา', 'ฟต', 'ฟท', 'ฟร', 'ฟล', 'ฟอ', 'ฟอง', 'ฟา', 'ฟเฟ', 'ฟเฟต', 'ภา', 'ภาค', 'ภาคอ', 'ภาคเหน', 'ภาคใต', 'ภาพ', 'ภาพถ', 'ภายใต', 'ภายใน', 'ภาษ', 'ภาษาอ', 'มกราคม', 'มกล', 'มข', 'มค', 'มงาน', 'มฉลอง', 'มช', 'มซำ', 'มณ', 'มณฑล', 'มต', 'มตำ', 'มท', 'มน', 'มผ', 'มพ', 'มมนา', 'มมม', 'มมาน', 'มย', 'มยำ', 'มยำก', 'มรกต', 'มรส', 'มลอง', 'มละ', 'มว', 'มสาว', 'มห', 'มหกรรม', 'มอ', 'มอคค', 'มอคคา', 'มอบ', 'มอบให', 'มอลล', 'มอเตอร', 'มะ', 'มะขาม', 'มะนาว', 'มะพร', 'มะม', 'มะล', 'มะเข', 'มา', 'มาก', 'มากกว', 'มากข', 'มากมาย', 'มาจาก', 'มาถ', 'มาน', 'มาล', 'มาศ', 'มเต', 'มเอม', 'มแจ', 'มแพ', 'มแม', 'มแย', 'มโบ', 'มใส', 'มได', 'มไปด', 'มๆ', 'ยก', 'ยกร', 'ยกเว', 'ยง', 'ยงตรง', 'ยงพระ', 'ยงราย', 'ยงว', 'ยงเท', 'ยงแค', 'ยงใหม', 'ยด', 'ยดนาม', 'ยดาย', 'ยน', 'ยนช', 'ยนเช', 'ยนไป', 'ยบ', 'ยบปากหม', 'ยบๆ', 'ยภ', 'ยม', 'ยมต', 'ยย', 'ยยย', 'ยยยย', 'ยร', 'ยรส', 'ยว', 'ยวก', 'ยวดำ', 'ยวหวาน', 'ยส', 'ยอ', 'ยอง', 'ยอด', 'ยอดน', 'ยอดรวม', 'ยอน', 'ยอม', 'ยะ', 'ยา', 'ยาง', 'ยาม', 'ยามค', 'ยามเช', 'ยาว', 'ยำ', 'รณรงค', 'รณะ', 'รด', 'รต', 'รตม', 'รถ', 'รถจ', 'รถโดยสารประจำทาง', 'รป', 'รพ', 'รม', 'รร', 'รว', 'รวน', 'รวบรวม', 'รวม', 'รวมก', 'รวมถ', 'รวมห', 'รส', 'รสชาต', 'รสเด', 'รห', 'รอ', 'รอคอย', 'รองร', 'รอบ', 'รอย', 'ระ', 'ระกา', 'ระด', 'ระบ', 'ระยอง', 'ระยะ', 'ระยะทาง', 'ระยะเวลา', 'ระล', 'ระหว', 'ระเบ', 'รา', 'ราคา', 'ราคาขายปล', 'รางว', 'ราช', 'ราชพฤกษ', 'ราด', 'ราดหน', 'ราม', 'รามอ', 'รามา', 'ราย', 'รายการ', 'รายการพ', 'รายการอาหาร', 'รายช', 'รายละเอ', 'ราษฎร', 'ราษฏร', 'ราเมน', 'ฤด', 'ลค', 'ลง', 'ลงต', 'ลด', 'ลดราคา', 'ลดเหล', 'ลพลาซา', 'ลม', 'ลล', 'ลวก', 'ลอง', 'ลองของ', 'ลองใน', 'ลอย', 'ลอยน', 'ลอร', 'ละ', 'ละคร', 'ละม', 'ละลานตา', 'ละลาย', 'ละว', 'ละไม', 'ลา', 'ลาคม', 'ลาง', 'ลาดกระบ', 'ลาดพร', 'ลาบ', 'ลาภ', 'ลาย', 'ลาวา', 'ลาเต', 'ลำ', 'ลำพ', 'วก', 'วคน', 'วง', 'วงน', 'วงหน', 'วงเวลา', 'วงใน', 'วจะ', 'วซ', 'วดลด', 'วตน', 'วน', 'วนต', 'วนผสม', 'วนลด', 'วนหน', 'วประชาชน', 'วปล', 'วม', 'วมก', 'วย', 'วยก', 'วยขวาง', 'วยจ', 'วยหอม', 'วยอร', 'วยเต', 'วยแตก', 'วยไข', 'วร', 'วรรณภ', 'วว', 'ววว', 'วววว', 'วส', 'วหน', 'วอ', 'วอร', 'วะ', 'วา', 'วาง', 'วาฟเฟ', 'วเจอร', 'วเช', 'วเล', 'วเอง', 'วแทน', 'วโมง', 'วโลก', 'วใจ', 'วไป', 'วๆ', 'วๆๆๆๆๆๆๆๆๆ', 'ศก', 'ศม', 'ศาลา', 'ษย', 'ษา', 'สก', 'สกาย', 'สค', 'สควอท', 'สง', 'สงวน', 'สงวนส', 'สด', 'สดช', 'สดใส', 'สดๆ', 'สต', 'สตอ', 'สตาร', 'สถานท', 'สถานะ', 'สถาบ', 'สท', 'สน', 'สนะ', 'สนามก', 'สนามบ', 'สนใจ', 'สบด', 'สบาย', 'สปา', 'สปาร', 'สม', 'สมด', 'สมนาค', 'สมาช', 'สมเด', 'สร', 'สระสม', 'สล', 'สละเวลา', 'สว', 'สวน', 'สวย', 'สส', 'สสส', 'สอง', 'สอด', 'สอน', 'สอบถาม', 'สอร', 'สะด', 'สะดวกสบาย', 'สะตอ', 'สะพาน', 'สะสม', 'สะอาด', 'สะเต', 'สะโพก', 'สะใจ', 'สา', 'สาขา', 'สาธ', 'สาธารณะ', 'สาน', 'สาม', 'สามส', 'สามสาย', 'สามารถ', 'สาย', 'สายบ', 'สาว', 'สาวก', 'สาหก', 'สาหร', 'สำค', 'สำน', 'สำร', 'สำรอง', 'สำหร', 'สำเร', 'สเต', 'สเตช', 'สเปซ', 'สแกน', 'สแตม', 'สแตมป', 'สโตร', 'สโสะ', 'สไตล', 'สไลด', 'หก', 'หง', 'หญ', 'หน', 'หนอง', 'หนา', 'หม', 'หมด', 'หมดเขต', 'หมวด', 'หมวย', 'หมอนทอง', 'หมา', 'หมายเลข', 'หมายเหต', 'หย', 'หยก', 'หยวน', 'หยอง', 'หร', 'หรรษา', 'หรา', 'หล', 'หลง', 'หลงร', 'หลอด', 'หลาก', 'หลากหลาย', 'หลาย', 'หลายชน', 'หลายอย', 'หวาน', 'หวานเย', 'หอม', 'หอมกร', 'หอย', 'หอยนางรม', 'หอยเม', 'หา', 'หาก', 'หาง', 'หาด', 'หาย', 'ฬา', 'อก', 'อกว', 'อกสรร', 'อกำหนด', 'อกเขา', 'อกเทล', 'อกโกแลต', 'อกไก', 'อค', 'อความ', 'อคโกแลต', 'อง', 'องก', 'องกง', 'องการ', 'องค', 'องจาก', 'องด', 'องท', 'องทาง', 'องน', 'องปร', 'องพ', 'องศา', 'องส', 'องอาหาร', 'องเค', 'องเต', 'องเท', 'องเทศ', 'องเร', 'องแกง', 'องแช', 'องใน', 'องใหม', 'องๆ', 'อจาก', 'อด', 'อต', 'อถ', 'อน', 'อนกำหนด', 'อนคลาย', 'อนร', 'อนำ', 'อนเด', 'อนเวลา', 'อนแก', 'อนแรง', 'อนไข', 'อบ', 'อบส', 'อบอ', 'อบอวล', 'อป', 'อพ', 'อฟ', 'อฟช', 'อม', 'อมก', 'อย', 'อยกว', 'อยล', 'อยาก', 'อยากร', 'อยใจ', 'อยๆ', 'อร', 'อรรถรส', 'อล', 'อว', 'อส', 'อสอบถาม', 'อหน', 'อหม', 'อหมก', 'ออ', 'ออก', 'ออกมา', 'ออท', 'ออน', 'ออนซ', 'ออนไลน', 'ออฟ', 'ออฟฟ', 'ออร', 'ออสเตรเล', 'ออเดอร', 'อะ', 'อะไร', 'อะไรก', 'อา', 'อาการ', 'อาคาร', 'อาจ', 'อาจจะ', 'อาท', 'อาฟเตอร', 'อาย', 'อาร', 'อารมณ', 'อาราบ', 'อาหาร', 'อาหารกลางว', 'อาหารจ', 'อาหารจานเด', 'อาหารทะเล', 'อาหารเจ', 'อาหารเช', 'อำลา', 'อำเภอ', 'อเก', 'อเทศ', 'อเน', 'อเปล', 'อเฟ', 'อเมร', 'อเวลา', 'อแกง', 'อโวคาโด', 'อโศก', 'อให', 'อไป', 'อไฟ', 'อไม', 'ฮง', 'ฮวน', 'ฮอก', 'ฮอกไกโด', 'ฮอลล', 'ฮา', 'ฮานอย', 'ฯลฯ', 'ะจ', 'ะะะะ', 'าก', 'าของ', 'าของร', 'าค', 'าคะ', 'าง', 'างค', 'างจ', 'างทอง', 'างประเทศ', 'างรถ', 'างล', 'างสรรค', 'างหน', 'างเผ', 'างใดอย', 'างๆ', 'าจอ', 'าด', 'าดงด', 'าตอง', 'าน', 'านค', 'านนอก', 'านนา', 'านราคา', 'านสวน', 'านหน', 'านอาหาร', 'านาย', 'าบ', 'าบบบบ', 'าบร', 'าฝน', 'าพน', 'าพระยา', 'าม', 'ามา', 'ามใจ', 'าย', 'ายภาพ', 'ายม', 'ายร', 'ายว', 'ายสด', 'ายๆ', 'าร', 'าราชการ', 'าว', 'าวคล', 'าวซอย', 'าวด', 'าวต', 'าวป', 'าวผ', 'าวม', 'าวสวย', 'าวสาร', 'าวหมก', 'าวอ', 'าวเกร', 'าวเหน', 'าวแกง', 'าวโพด', 'าส', 'าห', 'าหนาว', 'าอก', 'าฮ', 'าฮวย', 'าา', 'าาา', 'าาาา', 'าาาาา', 'าเช', 'าเด', 'าเพ', 'าเร', 'าแก', 'าใจผ', 'าใช', 'าไป', 'ำกว', 'ำค', 'ำจ', 'ำชา', 'ำด', 'ำตก', 'ำตาล', 'ำปล', 'ำปลา', 'ำผ', 'ำผลไม', 'ำพร', 'ำม', 'ำยา', 'ำส', 'ำอ', 'ำอบ', 'ำเต', 'ำเปล', 'ำแกง', 'ำแข', 'ำใจ', 'เก', 'เกรด', 'เกล', 'เกษตร', 'เกอร', 'เกะ', 'เกาหล', 'เกาะ', 'เกาเหลา', 'เข', 'เขต', 'เขา', 'เขาค', 'เขาใหญ', 'เขาไฟ', 'เค', 'เคช', 'เคย', 'เคร', 'เคราะ', 'เคล', 'เคาน', 'เง', 'เจ', 'เจนต', 'เจอ', 'เจอก', 'เฉพาะ', 'เฉพาะท', 'เฉล', 'เฉาก', 'เช', 'เชค', 'เชฟ', 'เชลล', 'เชสเตอร', 'เชอ', 'เซ', 'เซต', 'เซนต', 'เซลล', 'เซอร', 'เด', 'เดน', 'เดย', 'เดอะ', 'เต', 'เตย', 'เตร', 'เตอร', 'เตา', 'เตาถ', 'เตาอบ', 'เถอะ', 'เท', 'เทนเดอร', 'เทพ', 'เทร', 'เทว', 'เทศกาล', 'เทสต', 'เทสโก', 'เธอ', 'เน', 'เนย', 'เบ', 'เบคอน', 'เบนโตะ', 'เบยย', 'เบอ', 'เบอร', 'เบา', 'เบเกอร', 'เป', 'เปน', 'เปร', 'เปล', 'เปา', 'เผ', 'เผยแพร', 'เผา', 'เฝอ', 'เพ', 'เพจ', 'เพชรบ', 'เพรส', 'เพรา', 'เพราะ', 'เพล', 'เพลง', 'เพาะ', 'เฟ', 'เฟด', 'เฟรนช', 'เฟรนฟ', 'เฟรป', 'เฟรส', 'เฟส', 'เฟอร', 'เม', 'เมตร', 'เมน', 'เมล', 'เย', 'เยอรม', 'เยอะ', 'เร', 'เรนทร', 'เรนโบว', 'เรย', 'เรา', 'เล', 'เลขหมาย', 'เลย', 'เละ', 'เว', 'เวณ', 'เวป', 'เวฟ', 'เวย', 'เวลา', 'เวลาทำการ', 'เวลาเป', 'เวอ', 'เวอร', 'เวเฟอร', 'เศรษฐก', 'เศษ', 'เส', 'เสฉวน', 'เสนอ', 'เสา', 'เสาร', 'เสาว', 'เห', 'เหน', 'เหม', 'เหมาะ', 'เหมาะก', 'เหมาะสำหร', 'เหย', 'เหล', 'เหลา', 'เหาะ', 'เอ', 'เอกม', 'เอง', 'เอท', 'เอน', 'เอม', 'เอส', 'เอสเพรสโซ', 'เอา', 'เอาใจ', 'เอเช', 'เอไอเอส', 'เฮ', 'เฮง', 'เฮลต', 'เฮฮา', 'เเชร', 'เเต', 'เเม', 'แก', 'แกง', 'แกงส', 'แกน', 'แกรนด', 'แกะ', 'แข', 'แขร', 'แค', 'แคชเช', 'แคน', 'แคนยอน', 'แคนาดา', 'แคป', 'แคปซ', 'แคมป', 'แคมเปญ', 'แคร', 'แครง', 'แคว', 'แจ', 'แจก', 'แช', 'แชท', 'แชบ', 'แชร', 'แชะ', 'แซ', 'แซง', 'แซบ', 'แซลมอน', 'แซว', 'แด', 'แดง', 'แต', 'แตง', 'แตงกวา', 'แตงโม', 'แถม', 'แถว', 'แท', 'แทค', 'แทน', 'แน', 'แนะนำ', 'แบ', 'แบบ', 'แบบน', 'แบร', 'แบรนด', 'แบล', 'แป', 'แปด', 'แปล', 'แปลกใหม', 'แปะ', 'แผ', 'แผนท', 'แพ', 'แพง', 'แฟค', 'แฟน', 'แม', 'แมคโดน', 'แมน', 'แมนดาร', 'แมลงภ', 'แย', 'แยก', 'แยม', 'แร', 'แรก', 'แรง', 'แรงส', 'แล', 'แลก', 'แลกเปล', 'แลนด', 'และ', 'แวะ', 'แสง', 'แสดง', 'แสดงหล', 'แสตมป', 'แสน', 'แห', 'แหนม', 'แหลม', 'แอ', 'แอคคอร', 'แอด', 'แอนด', 'แอปพล', 'แอพ', 'แอพพล', 'แอฟร', 'แอร', 'แอล', 'แอลกอฮอล', 'แฮ', 'แฮปป', 'โก', 'โกด', 'โกโก', 'โค', 'โคตร', 'โคน', 'โครง', 'โครงการ', 'โคราช', 'โคล', 'โคลน', 'โฆษณา', 'โงะ', 'โชค', 'โชคด', 'โชว', 'โซ', 'โซดา', 'โซน', 'โซล', 'โด', 'โดด', 'โดน', 'โดย', 'โดยธรรมชาต', 'โดยเฉพาะ', 'โดยไม', 'โต', 'โตก', 'โท', 'โทร', 'โทรศ', 'โทส', 'โน', 'โบราณ', 'โบว', 'โบไฮเดรต', 'โป', 'โปร', 'โปรด', 'โปรโมช', 'โพ', 'โพส', 'โพสต', 'โฟ', 'โฟร', 'โม', 'โมง', 'โมร', 'โย', 'โร', 'โรงงาน', 'โรงพยาบาล', 'โรงเร', 'โรงแรม', 'โรต', 'โรบ', 'โรป', 'โรม', 'โรล', 'โล', 'โลก', 'โลด', 'โลต', 'โลเคช', 'โลเมตร', 'โว', 'โวล', 'โสะ', 'โหด', 'โหวด', 'โอ', 'โอก', 'โอกาส', 'โอกาสด', 'โอกาสพ', 'โอเค', 'โฮ', 'โฮมเมด', 'ใกล', 'ใคร', 'ใครๆ', 'ใจ', 'ใจคอ', 'ใจด', 'ใจร', 'ใช', 'ใด', 'ใดๆ', 'ใต', 'ใน', 'ในเคร', 'ใบ', 'ใบชา', 'ใบตอง', 'ใบหยก', 'ใบเสร', 'ใส', 'ให', 'ใหญ', 'ใหม', 'ไก', 'ไกด', 'ไข', 'ไขม', 'ไง', 'ไฉไล', 'ไซ', 'ไซด', 'ไซต', 'ไซส', 'ได', 'ไท', 'ไทย', 'ไทยดำ', 'ไทร', 'ไนท', 'ไบเทค', 'ไป', 'ไปมา', 'ไผ', 'ไฟ', 'ไม', 'ไร', 'ไลค', 'ไลท', 'ไลน', 'ไลฟ', 'ไว', 'ไวท', 'ไวน', 'ไวไฟ', 'ไส', 'ไหน', 'ไหม', 'ไหว', 'ไอ', 'ไอซ', 'ไอต', 'ไอพ', 'ไอศกร', 'ไอศคร', 'ไฮ', 'ไฮเนเก', 'ๆคน', 'ๆๆ', 'ๆๆๆ', 'ๆๆๆๆ', 'たくみ']\n",
      "[[2 0 0 ... 0 0 0]\n",
      " [0 0 0 ... 0 0 0]\n",
      " [2 0 0 ... 0 0 0]\n",
      " ...\n",
      " [0 0 0 ... 0 0 0]\n",
      " [0 0 0 ... 0 0 0]\n",
      " [0 0 0 ... 0 0 0]]\n"
     ]
    }
   ],
   "source": [
    "cv = CountVectorizer()\n",
    "features = cv.fit_transform(train.feature.apply(' '.join))\n",
    "print(cv.get_feature_names())\n",
    "print(features.toarray())"
   ]
  },
  {
   "cell_type": "code",
   "execution_count": 19,
   "metadata": {},
   "outputs": [],
   "source": [
    "# Build model in this case SVM"
   ]
  },
  {
   "cell_type": "code",
   "execution_count": 20,
   "metadata": {},
   "outputs": [
    {
     "data": {
      "text/plain": [
       "SVC()"
      ]
     },
     "execution_count": 20,
     "metadata": {},
     "output_type": "execute_result"
    }
   ],
   "source": [
    "y_train = train['bad']\n",
    "\n",
    "model = svm.SVC()\n",
    "\n",
    "model.fit(features, y_train)"
   ]
  },
  {
   "cell_type": "code",
   "execution_count": 21,
   "metadata": {},
   "outputs": [
    {
     "name": "stdout",
     "output_type": "stream",
     "text": [
      "Accuracy of the model is: 0.7862232779097387\n"
     ]
    }
   ],
   "source": [
    "# test\n",
    "\n",
    "test['feature'] = test.description\n",
    "test['feature'] = test['feature'].replace('\\n',' ', regex=True)\n",
    "test['feature'] = test['feature'].replace('[^\\w\\s#@/:%.,_-]', '')\n",
    "test['feature'] = test['feature'].apply(wordToken)\n",
    "\n",
    "y_test = test['bad']\n",
    "features_test = cv.transform(test.feature.apply(' '.join))\n",
    "\n",
    "print(\"Accuracy of the model is:\" ,model.score(features_test,y_test))"
   ]
  },
  {
   "cell_type": "code",
   "execution_count": 22,
   "metadata": {},
   "outputs": [
    {
     "name": "stdout",
     "output_type": "stream",
     "text": [
      "{'C': 10, 'gamma': 'scale', 'kernel': 'rbf'}\n"
     ]
    }
   ],
   "source": [
    "# tuning parameter\n",
    "\n",
    "tuned_parameter = {'kernel':['linear','rbf'],'gamma':['scale', 'auto'],'C':[1,10,100,1000]}\n",
    "\n",
    "model = GridSearchCV(svm.SVC(),tuned_parameter)\n",
    "\n",
    "model.fit(features, y_train)\n",
    "\n",
    "print(model.best_params_)"
   ]
  },
  {
   "cell_type": "markdown",
   "metadata": {},
   "source": [
    "## Testing"
   ]
  },
  {
   "cell_type": "code",
   "execution_count": 23,
   "metadata": {},
   "outputs": [
    {
     "name": "stdout",
     "output_type": "stream",
     "text": [
      "Accuracy of the model is: 0.7909738717339667\n"
     ]
    }
   ],
   "source": [
    "test['feature'] = test.description\n",
    "test['feature'] = test['feature'].replace('\\n',' ', regex=True)\n",
    "test['feature'] = test['feature'].replace('[^\\w\\s#@/:%.,_-]', '')\n",
    "test['feature'] = test['feature'].apply(wordToken)\n",
    "\n",
    "y_test = test['bad']\n",
    "features_test = cv.transform(test.feature.apply(' '.join))\n",
    "\n",
    "print(\"Accuracy of the model is:\" ,model.score(features_test,y_test))"
   ]
  },
  {
   "cell_type": "code",
   "execution_count": 24,
   "metadata": {},
   "outputs": [
    {
     "name": "stdout",
     "output_type": "stream",
     "text": [
      "ส่วนลด   10   บาท ทันที   สำหรับ ลูกค้า ใน การ ซื้อ แก้ว แรก\n",
      "[0]\n"
     ]
    }
   ],
   "source": [
    "# predict\n",
    "\n",
    "testdata['feature'] = testdata.description\n",
    "testdata['feature'] = testdata['feature'].replace('\\n',' ', regex=True)\n",
    "testdata['feature'] = testdata['feature'].replace('[^\\w\\s#@/:%.,_-]', '')\n",
    "testdata['feature'] = testdata['feature'].apply(wordToken).apply(' '.join)\n",
    "\n",
    "item = 1\n",
    "print(testdata.feature[item])\n",
    "item = cv.transform([testdata.feature[item]])\n",
    "y_predict = model.predict(item)\n",
    "print(y_predict)"
   ]
  },
  {
   "cell_type": "code",
   "execution_count": 25,
   "metadata": {},
   "outputs": [
    {
     "data": {
      "text/html": [
       "<div>\n",
       "<style scoped>\n",
       "    .dataframe tbody tr th:only-of-type {\n",
       "        vertical-align: middle;\n",
       "    }\n",
       "\n",
       "    .dataframe tbody tr th {\n",
       "        vertical-align: top;\n",
       "    }\n",
       "\n",
       "    .dataframe thead th {\n",
       "        text-align: right;\n",
       "    }\n",
       "</style>\n",
       "<table border=\"1\" class=\"dataframe\">\n",
       "  <thead>\n",
       "    <tr style=\"text-align: right;\">\n",
       "      <th></th>\n",
       "      <th>PromotionId</th>\n",
       "      <th>description</th>\n",
       "      <th>result</th>\n",
       "    </tr>\n",
       "  </thead>\n",
       "  <tbody>\n",
       "    <tr>\n",
       "      <th>0</th>\n",
       "      <td>1NWLA8yFGO4oZeRpAvdAY1JDJb6UtA</td>\n",
       "      <td>โปรโมชั่นพิเศษสำหรับ นักเรียน นักศึกษา เพียง แ...</td>\n",
       "      <td>0.0</td>\n",
       "    </tr>\n",
       "    <tr>\n",
       "      <th>1</th>\n",
       "      <td>1NWLAsDec3ZqmKAKk8cOgDmg5dVwuQ</td>\n",
       "      <td>ส่วนลด 10 บาททันที สำหรับลูกค้าในการซื้อแก้วแรก</td>\n",
       "      <td>0.0</td>\n",
       "    </tr>\n",
       "    <tr>\n",
       "      <th>2</th>\n",
       "      <td>1NWLAA6FbijUl5mqQ0Z2VTetfFlmRX</td>\n",
       "      <td>NaN</td>\n",
       "      <td>1.0</td>\n",
       "    </tr>\n",
       "    <tr>\n",
       "      <th>3</th>\n",
       "      <td>1NWLCX8ML1e2c5pkgf8oT1AVfAsFio</td>\n",
       "      <td>LINEMAN บริการส่งเค้กถึงมือท่าน</td>\n",
       "      <td>1.0</td>\n",
       "    </tr>\n",
       "    <tr>\n",
       "      <th>4</th>\n",
       "      <td>1NWLC0j3XRIwoXpTNXFkZVah0bnasd</td>\n",
       "      <td>2 วันสุดท้ายของเดือนนี้\\n\\n\\n30-31 สค 61</td>\n",
       "      <td>0.0</td>\n",
       "    </tr>\n",
       "  </tbody>\n",
       "</table>\n",
       "</div>"
      ],
      "text/plain": [
       "                      PromotionId  \\\n",
       "0  1NWLA8yFGO4oZeRpAvdAY1JDJb6UtA   \n",
       "1  1NWLAsDec3ZqmKAKk8cOgDmg5dVwuQ   \n",
       "2  1NWLAA6FbijUl5mqQ0Z2VTetfFlmRX   \n",
       "3  1NWLCX8ML1e2c5pkgf8oT1AVfAsFio   \n",
       "4  1NWLC0j3XRIwoXpTNXFkZVah0bnasd   \n",
       "\n",
       "                                         description  result  \n",
       "0  โปรโมชั่นพิเศษสำหรับ นักเรียน นักศึกษา เพียง แ...     0.0  \n",
       "1    ส่วนลด 10 บาททันที สำหรับลูกค้าในการซื้อแก้วแรก     0.0  \n",
       "2                                                NaN     1.0  \n",
       "3                    LINEMAN บริการส่งเค้กถึงมือท่าน     1.0  \n",
       "4           2 วันสุดท้ายของเดือนนี้\\n\\n\\n30-31 สค 61     0.0  "
      ]
     },
     "execution_count": 25,
     "metadata": {},
     "output_type": "execute_result"
    }
   ],
   "source": [
    "# predict whole test set and save to csv\n",
    "\n",
    "# testdata['result'] = np.nan\n",
    "\n",
    "# for i in range(0, testdata.shape[0]):\n",
    "#     item = cv.transform([testdata.feature[i]])\n",
    "#     testdata['result'][i:i+1] = model.predict(item)\n",
    "\n",
    "# del testdata['feature']\n",
    "# testdata.to_csv(r'predict-result.csv', index = False)    \n",
    "# testdata.head()"
   ]
  },
  {
   "cell_type": "code",
   "execution_count": 26,
   "metadata": {},
   "outputs": [
    {
     "data": {
      "text/plain": [
       "1.0    302\n",
       "0.0    225\n",
       "Name: result, dtype: int64"
      ]
     },
     "execution_count": 26,
     "metadata": {},
     "output_type": "execute_result"
    }
   ],
   "source": [
    "testdata['result'].value_counts()"
   ]
  },
  {
   "cell_type": "code",
   "execution_count": 27,
   "metadata": {},
   "outputs": [
    {
     "data": {
      "image/png": "[encoded data removed]",
      "text/plain": [
       "<Figure size 432x288 with 1 Axes>"
      ]
     },
     "metadata": {
      "needs_background": "light"
     },
     "output_type": "display_data"
    }
   ],
   "source": [
    "ax_test = sns.countplot(x=\"result\", data=testdata)"
   ]
  }
 ],
 "metadata": {
  "kernelspec": {
   "display_name": "Python 3",
   "language": "python",
   "name": "python3"
  },
  "language_info": {
   "codemirror_mode": {
    "name": "ipython",
    "version": 3
   },
   "file_extension": ".py",
   "mimetype": "text/x-python",
   "name": "python",
   "nbconvert_exporter": "python",
   "pygments_lexer": "ipython3",
   "version": "3.8.5"
  }
 },
 "nbformat": 4,
 "nbformat_minor": 4
}
